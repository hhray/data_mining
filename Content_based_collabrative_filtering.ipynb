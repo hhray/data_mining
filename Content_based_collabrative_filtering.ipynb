{
 "cells": [
  {
   "cell_type": "code",
   "execution_count": 1,
   "metadata": {},
   "outputs": [
    {
     "name": "stdout",
     "output_type": "stream",
     "text": [
      "Populating the interactive namespace from numpy and matplotlib\n"
     ]
    }
   ],
   "source": [
    "%pylab inline\n",
    "import warnings\n",
    "warnings.filterwarnings('ignore')"
   ]
  },
  {
   "cell_type": "code",
   "execution_count": 2,
   "metadata": {},
   "outputs": [],
   "source": [
    "import pandas as pd\n",
    "import numpy as np\n",
    "import matplotlib.pyplot as plt"
   ]
  },
  {
   "cell_type": "code",
   "execution_count": 3,
   "metadata": {},
   "outputs": [],
   "source": [
    "import pandas as pd\n",
    "import numpy as np\n",
    "from numpy.linalg import norm\n",
    "from sklearn.pipeline import FeatureUnion\n",
    "import simplejson as json\n",
    "from scipy.sparse import coo_matrix\n",
    "from datetime import datetime"
   ]
  },
  {
   "cell_type": "markdown",
   "metadata": {},
   "source": [
    "#### Helper Function"
   ]
  },
  {
   "cell_type": "code",
   "execution_count": 4,
   "metadata": {},
   "outputs": [],
   "source": [
    "from sklearn import base\n",
    "from sklearn.feature_extraction import DictVectorizer # for One_Hot_Encoder\n",
    "\n",
    "def Value_To_Dict(val):\n",
    "    return {val:1}\n",
    "\n",
    "def List_To_Dict(the_list):\n",
    "    return {category:1 for category in the_list}\n",
    "    \n",
    "def Flatten_Dict(d, prekey = ''):\n",
    "    flat_dict = {}\n",
    "    for key in d:\n",
    "        if isinstance(d[key], bool) and d[key]:\n",
    "            flat_dict.update({prekey+'_'+key:1})\n",
    "        elif isinstance(d[key], str):\n",
    "            flat_dict.update({prekey+'_'+key+'_'+d[key]:1})\n",
    "        elif isinstance(d[key], dict):\n",
    "            flat_dict.update(Flatten_Dict(d[key], prekey=prekey+'_'+key))\n",
    "    return flat_dict\n",
    "\n",
    "class One_Hot_Encoder(base.BaseEstimator, base.TransformerMixin):\n",
    "    def __init__(self, colnames, value_type = 'value', sparse = True):\n",
    "        if value_type == 'value':\n",
    "            self.apply_function_ = Value_To_Dict\n",
    "        elif value_type == 'list':\n",
    "            self.apply_function_ = List_To_Dict\n",
    "        elif value_type == 'dict':\n",
    "            self.apply_function_ = Flatten_Dict\n",
    "        self.colnames_ = colnames\n",
    "        self.dv_ = DictVectorizer(sparse = sparse)\n",
    "\n",
    "    def fit(self, X, y = None):\n",
    "        self.dv_.fit(X[self.colnames_].apply(self.apply_function_))\n",
    "        return self\n",
    "\n",
    "    def transform(self, X):\n",
    "        return self.dv_.transform(X[self.colnames_].apply(self.apply_function_))\n",
    "class Column_Selector(base.BaseEstimator, base.TransformerMixin):\n",
    "    def __init__(self, colnames):\n",
    "        self.colnames_ = colnames\n",
    "\n",
    "    def fit(self, X, y = None):\n",
    "        return self\n",
    "\n",
    "    def transform(self, X):\n",
    "        return pd.DataFrame(X[self.colnames_])"
   ]
  },
  {
   "cell_type": "markdown",
   "metadata": {},
   "source": [
    "#### Data Setup"
   ]
  },
  {
   "cell_type": "code",
   "execution_count": 5,
   "metadata": {},
   "outputs": [
    {
     "name": "stdout",
     "output_type": "stream",
     "text": [
      "2256\n"
     ]
    }
   ],
   "source": [
    "# Loading the dataset\n",
    "# Loading the reviews dataset\n",
    "reviews_frame = pd.read_csv('data/filtered_review.csv')\n",
    "\n",
    "# Loading business and user dataset\n",
    "def get_data(line, columns):\n",
    "    d = json.loads(line)\n",
    "    return dict((key, d[key]) for key in columns)\n",
    "\n",
    "# Loading user data\n",
    "columns = ('user_id', 'name','average_stars')\n",
    "with open('input/yelp_academic_dataset_user.json', 'rb') as f:\n",
    "    user_frame = pd.DataFrame(get_data(line, columns) for line in f)\n",
    "user_frame = user_frame.sort_values('user_id')\n",
    "\n",
    "# Loading business data\n",
    "columns = ('business_id', 'name','categories','attributes','city','stars')\n",
    "with open('input/yelp_academic_dataset_business.json', 'rb') as f:\n",
    "    business = pd.DataFrame(get_data(line, columns) for line in f)\n",
    "\n",
    "business = business.sort_values('business_id')\n",
    "\n",
    "# Trimming the dataset by city\n",
    "business_by_city = business['city'] == \"Pittsburgh\"\n",
    "business = business[business_by_city]\n",
    "\n",
    "# Trimming the dataset by the category 'Restaurants'\n",
    "business = business[business.categories.notnull()]\n",
    "business = business[business[\"categories\"].apply(str).str.contains(\"Restaurants\")]\n",
    "\n",
    "business = business[business.attributes.notnull()]\n",
    "business_frame = business\n",
    "\n",
    "print (len(business_frame))"
   ]
  },
  {
   "cell_type": "code",
   "execution_count": 6,
   "metadata": {},
   "outputs": [
    {
     "data": {
      "text/html": [
       "<div>\n",
       "<style scoped>\n",
       "    .dataframe tbody tr th:only-of-type {\n",
       "        vertical-align: middle;\n",
       "    }\n",
       "\n",
       "    .dataframe tbody tr th {\n",
       "        vertical-align: top;\n",
       "    }\n",
       "\n",
       "    .dataframe thead th {\n",
       "        text-align: right;\n",
       "    }\n",
       "</style>\n",
       "<table border=\"1\" class=\"dataframe\">\n",
       "  <thead>\n",
       "    <tr style=\"text-align: right;\">\n",
       "      <th></th>\n",
       "      <th>business_id</th>\n",
       "      <th>stars</th>\n",
       "      <th>user_id</th>\n",
       "      <th>text</th>\n",
       "      <th>name</th>\n",
       "      <th>categories</th>\n",
       "      <th>attributes</th>\n",
       "      <th>city</th>\n",
       "    </tr>\n",
       "  </thead>\n",
       "  <tbody>\n",
       "    <tr>\n",
       "      <th>0</th>\n",
       "      <td>YO8sWa0wYChH6DQWnE6NFg</td>\n",
       "      <td>4</td>\n",
       "      <td>djSJ6a9gsLSdj-7BoyNNQA</td>\n",
       "      <td>You're not gonna find a much better breakfast ...</td>\n",
       "      <td>P&amp;G's Pamela's Diner</td>\n",
       "      <td>Restaurants, Breakfast &amp; Brunch</td>\n",
       "      <td>{'Alcohol': 'none', 'Ambience': \"{'romantic': ...</td>\n",
       "      <td>Pittsburgh</td>\n",
       "    </tr>\n",
       "    <tr>\n",
       "      <th>1</th>\n",
       "      <td>YO8sWa0wYChH6DQWnE6NFg</td>\n",
       "      <td>4</td>\n",
       "      <td>Tj58A0_D-WsD-UirmpYSEQ</td>\n",
       "      <td>It's true.  The pancakes here are incredible, ...</td>\n",
       "      <td>P&amp;G's Pamela's Diner</td>\n",
       "      <td>Restaurants, Breakfast &amp; Brunch</td>\n",
       "      <td>{'Alcohol': 'none', 'Ambience': \"{'romantic': ...</td>\n",
       "      <td>Pittsburgh</td>\n",
       "    </tr>\n",
       "    <tr>\n",
       "      <th>2</th>\n",
       "      <td>YO8sWa0wYChH6DQWnE6NFg</td>\n",
       "      <td>1</td>\n",
       "      <td>lwCt_LgGAbPQpNRpaDR_Fg</td>\n",
       "      <td>Pamela's is not anything great (heavy and grea...</td>\n",
       "      <td>P&amp;G's Pamela's Diner</td>\n",
       "      <td>Restaurants, Breakfast &amp; Brunch</td>\n",
       "      <td>{'Alcohol': 'none', 'Ambience': \"{'romantic': ...</td>\n",
       "      <td>Pittsburgh</td>\n",
       "    </tr>\n",
       "    <tr>\n",
       "      <th>3</th>\n",
       "      <td>YO8sWa0wYChH6DQWnE6NFg</td>\n",
       "      <td>3</td>\n",
       "      <td>Figs8mO8s_aPRq2W7W0cYQ</td>\n",
       "      <td>I've been here a couple of times for brunch. I...</td>\n",
       "      <td>P&amp;G's Pamela's Diner</td>\n",
       "      <td>Restaurants, Breakfast &amp; Brunch</td>\n",
       "      <td>{'Alcohol': 'none', 'Ambience': \"{'romantic': ...</td>\n",
       "      <td>Pittsburgh</td>\n",
       "    </tr>\n",
       "    <tr>\n",
       "      <th>4</th>\n",
       "      <td>YO8sWa0wYChH6DQWnE6NFg</td>\n",
       "      <td>4</td>\n",
       "      <td>iRRjcenJiFkGO92I3RvW-A</td>\n",
       "      <td>Everything was great except the coffee. I had ...</td>\n",
       "      <td>P&amp;G's Pamela's Diner</td>\n",
       "      <td>Restaurants, Breakfast &amp; Brunch</td>\n",
       "      <td>{'Alcohol': 'none', 'Ambience': \"{'romantic': ...</td>\n",
       "      <td>Pittsburgh</td>\n",
       "    </tr>\n",
       "  </tbody>\n",
       "</table>\n",
       "</div>"
      ],
      "text/plain": [
       "              business_id  stars                 user_id  \\\n",
       "0  YO8sWa0wYChH6DQWnE6NFg      4  djSJ6a9gsLSdj-7BoyNNQA   \n",
       "1  YO8sWa0wYChH6DQWnE6NFg      4  Tj58A0_D-WsD-UirmpYSEQ   \n",
       "2  YO8sWa0wYChH6DQWnE6NFg      1  lwCt_LgGAbPQpNRpaDR_Fg   \n",
       "3  YO8sWa0wYChH6DQWnE6NFg      3  Figs8mO8s_aPRq2W7W0cYQ   \n",
       "4  YO8sWa0wYChH6DQWnE6NFg      4  iRRjcenJiFkGO92I3RvW-A   \n",
       "\n",
       "                                                text                  name  \\\n",
       "0  You're not gonna find a much better breakfast ...  P&G's Pamela's Diner   \n",
       "1  It's true.  The pancakes here are incredible, ...  P&G's Pamela's Diner   \n",
       "2  Pamela's is not anything great (heavy and grea...  P&G's Pamela's Diner   \n",
       "3  I've been here a couple of times for brunch. I...  P&G's Pamela's Diner   \n",
       "4  Everything was great except the coffee. I had ...  P&G's Pamela's Diner   \n",
       "\n",
       "                        categories  \\\n",
       "0  Restaurants, Breakfast & Brunch   \n",
       "1  Restaurants, Breakfast & Brunch   \n",
       "2  Restaurants, Breakfast & Brunch   \n",
       "3  Restaurants, Breakfast & Brunch   \n",
       "4  Restaurants, Breakfast & Brunch   \n",
       "\n",
       "                                          attributes        city  \n",
       "0  {'Alcohol': 'none', 'Ambience': \"{'romantic': ...  Pittsburgh  \n",
       "1  {'Alcohol': 'none', 'Ambience': \"{'romantic': ...  Pittsburgh  \n",
       "2  {'Alcohol': 'none', 'Ambience': \"{'romantic': ...  Pittsburgh  \n",
       "3  {'Alcohol': 'none', 'Ambience': \"{'romantic': ...  Pittsburgh  \n",
       "4  {'Alcohol': 'none', 'Ambience': \"{'romantic': ...  Pittsburgh  "
      ]
     },
     "execution_count": 6,
     "metadata": {},
     "output_type": "execute_result"
    }
   ],
   "source": [
    "reviews_frame.head()"
   ]
  },
  {
   "cell_type": "markdown",
   "metadata": {},
   "source": [
    "#### Feature Extraction"
   ]
  },
  {
   "cell_type": "code",
   "execution_count": 7,
   "metadata": {},
   "outputs": [
    {
     "data": {
      "text/plain": [
       "FeatureUnion(n_jobs=1,\n",
       "       transformer_list=[('cat', One_Hot_Encoder(colnames=None, sparse=None, value_type=None)), ('attr', One_Hot_Encoder(colnames=None, sparse=None, value_type=None)), ('city', One_Hot_Encoder(colnames=None, sparse=None, value_type=None)), ('rating', Column_Selector(colnames=None))],\n",
       "       transformer_weights=None)"
      ]
     },
     "execution_count": 7,
     "metadata": {},
     "output_type": "execute_result"
    }
   ],
   "source": [
    "encoding_category = One_Hot_Encoder('categories', 'list', sparse=False)\n",
    "encoding_attribute = One_Hot_Encoder('attributes', 'dict', sparse=False)\n",
    "encoding_city= One_Hot_Encoder('city', 'value', sparse=False)\n",
    "rating = Column_Selector(['stars'])\n",
    "encoding_union = FeatureUnion([ ('cat', encoding_category),('attr', encoding_attribute),('city', encoding_city), ('rating', rating) ])\n",
    "encoding_union.fit(business_frame)"
   ]
  },
  {
   "cell_type": "markdown",
   "metadata": {},
   "source": [
    "#### Building Matrix based on user's review history"
   ]
  },
  {
   "cell_type": "code",
   "execution_count": 8,
   "metadata": {},
   "outputs": [],
   "source": [
    "user = 'djSJ6a9gsLSdj-7BoyNNQA'\n",
    "\n",
    "reviews_given_by_user = reviews_frame.ix[reviews_frame.user_id == user]\n",
    "reviews_given_by_user['stars'] = reviews_given_by_user['stars'] - float(user_frame.average_stars[user_frame.user_id == user])\n",
    "reviews_given_by_user = reviews_given_by_user.sort_values('business_id')\n",
    "\n",
    "# list of ids of the businesses reviewed by the user\n",
    "reviewed_business_id_list = reviews_given_by_user['business_id'].tolist()\n",
    "reviewed_business = business_frame[business_frame['business_id'].isin(reviewed_business_id_list)]\n",
    "reviewed_business = reviewed_business.sort_values('business_id')\n",
    "\n",
    "features = encoding_union.transform(reviewed_business)\n",
    "profile = np.matrix(reviews_given_by_user.stars) * features"
   ]
  },
  {
   "cell_type": "markdown",
   "metadata": {},
   "source": [
    "#### Calculating cosine similarity of the unreviewed reviews with the user's profile"
   ]
  },
  {
   "cell_type": "code",
   "execution_count": 9,
   "metadata": {
    "scrolled": false
   },
   "outputs": [],
   "source": [
    "\n",
    "# test_frame = business_frame[0:1000]\n",
    "test_frame = business_frame\n",
    "test_frame = test_frame.sort_values('business_id')\n",
    "business_id_list = test_frame['business_id'].tolist()\n",
    "features = encoding_union.transform(test_frame)\n",
    "similarity = np.asarray(profile * features.T) * 1./(norm(profile) * norm(features, axis = 1))"
   ]
  },
  {
   "cell_type": "code",
   "execution_count": 10,
   "metadata": {},
   "outputs": [
    {
     "data": {
      "text/plain": [
       "array([[-0.81176734, -0.64844794, -0.63335977, ..., -0.56421303,\n",
       "        -0.75105149, -0.73183188]])"
      ]
     },
     "execution_count": 10,
     "metadata": {},
     "output_type": "execute_result"
    }
   ],
   "source": [
    "similarity"
   ]
  },
  {
   "cell_type": "markdown",
   "metadata": {},
   "source": [
    "#### Output the recommended restaurants"
   ]
  },
  {
   "cell_type": "code",
   "execution_count": 11,
   "metadata": {},
   "outputs": [
    {
     "name": "stdout",
     "output_type": "stream",
     "text": [
      "Hi Mackenzie\n",
      "Check out these restaurants: \n",
      "Phong May House\n",
      "Little Caesars\n",
      "Vinny's Pizza\n",
      "Fu Lai Chinese Restaurant\n",
      "Little Caesars Pizza\n",
      "Ron's Pizza Palace\n",
      "Papa John's Pizza\n",
      "Chubby's Pizza & Hoagies Northside\n",
      "Hong Kong Taste\n",
      "Vincenzos Pizza & Pasta\n"
     ]
    }
   ],
   "source": [
    "index_arr = (-similarity).argsort()[:10][0][0:10]\n",
    "print ('Hi ' + user_frame.name[user_frame.user_id == user].values[0] + '\\nCheck out these restaurants: ')\n",
    "for i in index_arr:\n",
    "    resturant = business_frame[business_frame.business_id == business_id_list[i]]\n",
    "    print (str(resturant['name'].values[0]))"
   ]
  }
 ],
 "metadata": {
  "kernelspec": {
   "display_name": "Python 3",
   "language": "python",
   "name": "python3"
  },
  "language_info": {
   "codemirror_mode": {
    "name": "ipython",
    "version": 3
   },
   "file_extension": ".py",
   "mimetype": "text/x-python",
   "name": "python",
   "nbconvert_exporter": "python",
   "pygments_lexer": "ipython3",
   "version": "3.6.5"
  }
 },
 "nbformat": 4,
 "nbformat_minor": 2
}
