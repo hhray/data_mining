{
 "cells": [
  {
   "cell_type": "markdown",
   "metadata": {},
   "source": [
    "## Predicting Review Stars based on text review - Linear SVM"
   ]
  },
  {
   "cell_type": "code",
   "execution_count": 1,
   "metadata": {},
   "outputs": [],
   "source": [
    "from IPython.core.interactiveshell import InteractiveShell\n",
    "InteractiveShell.ast_node_interactivity = \"all\""
   ]
  },
  {
   "cell_type": "code",
   "execution_count": 2,
   "metadata": {},
   "outputs": [],
   "source": [
    "import pandas as pd\n",
    "import numpy as np\n",
    "import matplotlib.pyplot as plt\n",
    "import seaborn as sns\n",
    "import nltk\n",
    "from nltk.corpus import stopwords\n",
    "from collections import Counter"
   ]
  },
  {
   "cell_type": "code",
   "execution_count": 3,
   "metadata": {},
   "outputs": [
    {
     "data": {
      "text/html": [
       "<div>\n",
       "<style scoped>\n",
       "    .dataframe tbody tr th:only-of-type {\n",
       "        vertical-align: middle;\n",
       "    }\n",
       "\n",
       "    .dataframe tbody tr th {\n",
       "        vertical-align: top;\n",
       "    }\n",
       "\n",
       "    .dataframe thead th {\n",
       "        text-align: right;\n",
       "    }\n",
       "</style>\n",
       "<table border=\"1\" class=\"dataframe\">\n",
       "  <thead>\n",
       "    <tr style=\"text-align: right;\">\n",
       "      <th></th>\n",
       "      <th>business_id</th>\n",
       "      <th>stars</th>\n",
       "      <th>user_id</th>\n",
       "      <th>text</th>\n",
       "      <th>name</th>\n",
       "      <th>categories</th>\n",
       "      <th>attributes</th>\n",
       "      <th>city</th>\n",
       "    </tr>\n",
       "  </thead>\n",
       "  <tbody>\n",
       "    <tr>\n",
       "      <th>0</th>\n",
       "      <td>YO8sWa0wYChH6DQWnE6NFg</td>\n",
       "      <td>4</td>\n",
       "      <td>djSJ6a9gsLSdj-7BoyNNQA</td>\n",
       "      <td>You're not gonna find a much better breakfast ...</td>\n",
       "      <td>P&amp;G's Pamela's Diner</td>\n",
       "      <td>Restaurants, Breakfast &amp; Brunch</td>\n",
       "      <td>{'Alcohol': 'none', 'Ambience': \"{'romantic': ...</td>\n",
       "      <td>Pittsburgh</td>\n",
       "    </tr>\n",
       "    <tr>\n",
       "      <th>1</th>\n",
       "      <td>YO8sWa0wYChH6DQWnE6NFg</td>\n",
       "      <td>4</td>\n",
       "      <td>Tj58A0_D-WsD-UirmpYSEQ</td>\n",
       "      <td>It's true.  The pancakes here are incredible, ...</td>\n",
       "      <td>P&amp;G's Pamela's Diner</td>\n",
       "      <td>Restaurants, Breakfast &amp; Brunch</td>\n",
       "      <td>{'Alcohol': 'none', 'Ambience': \"{'romantic': ...</td>\n",
       "      <td>Pittsburgh</td>\n",
       "    </tr>\n",
       "    <tr>\n",
       "      <th>2</th>\n",
       "      <td>YO8sWa0wYChH6DQWnE6NFg</td>\n",
       "      <td>1</td>\n",
       "      <td>lwCt_LgGAbPQpNRpaDR_Fg</td>\n",
       "      <td>Pamela's is not anything great (heavy and grea...</td>\n",
       "      <td>P&amp;G's Pamela's Diner</td>\n",
       "      <td>Restaurants, Breakfast &amp; Brunch</td>\n",
       "      <td>{'Alcohol': 'none', 'Ambience': \"{'romantic': ...</td>\n",
       "      <td>Pittsburgh</td>\n",
       "    </tr>\n",
       "  </tbody>\n",
       "</table>\n",
       "</div>"
      ],
      "text/plain": [
       "              business_id  stars                 user_id  \\\n",
       "0  YO8sWa0wYChH6DQWnE6NFg      4  djSJ6a9gsLSdj-7BoyNNQA   \n",
       "1  YO8sWa0wYChH6DQWnE6NFg      4  Tj58A0_D-WsD-UirmpYSEQ   \n",
       "2  YO8sWa0wYChH6DQWnE6NFg      1  lwCt_LgGAbPQpNRpaDR_Fg   \n",
       "\n",
       "                                                text                  name  \\\n",
       "0  You're not gonna find a much better breakfast ...  P&G's Pamela's Diner   \n",
       "1  It's true.  The pancakes here are incredible, ...  P&G's Pamela's Diner   \n",
       "2  Pamela's is not anything great (heavy and grea...  P&G's Pamela's Diner   \n",
       "\n",
       "                        categories  \\\n",
       "0  Restaurants, Breakfast & Brunch   \n",
       "1  Restaurants, Breakfast & Brunch   \n",
       "2  Restaurants, Breakfast & Brunch   \n",
       "\n",
       "                                          attributes        city  \n",
       "0  {'Alcohol': 'none', 'Ambience': \"{'romantic': ...  Pittsburgh  \n",
       "1  {'Alcohol': 'none', 'Ambience': \"{'romantic': ...  Pittsburgh  \n",
       "2  {'Alcohol': 'none', 'Ambience': \"{'romantic': ...  Pittsburgh  "
      ]
     },
     "execution_count": 3,
     "metadata": {},
     "output_type": "execute_result"
    }
   ],
   "source": [
    "reviews_dataset = pd.read_csv('data/filtered_review.csv', low_memory= False)\n",
    "reviews_dataset.head(3)"
   ]
  },
  {
   "cell_type": "code",
   "execution_count": 4,
   "metadata": {},
   "outputs": [
    {
     "data": {
      "text/plain": [
       "business_id    51864\n",
       "stars          51864\n",
       "user_id        51864\n",
       "text           51864\n",
       "name           51864\n",
       "categories     51864\n",
       "attributes     51864\n",
       "city           51864\n",
       "dtype: int64"
      ]
     },
     "execution_count": 4,
     "metadata": {},
     "output_type": "execute_result"
    }
   ],
   "source": [
    "reviews_dataset.count()"
   ]
  },
  {
   "cell_type": "markdown",
   "metadata": {},
   "source": [
    "#### Text preprocessing"
   ]
  },
  {
   "cell_type": "code",
   "execution_count": 5,
   "metadata": {},
   "outputs": [],
   "source": [
    "import string\n",
    "def get_clean_text(review):\n",
    "    \n",
    "    stopwords = nltk.corpus.stopwords.words('english')\n",
    "    text = review\n",
    "    \n",
    "    text = text[2: len(review)-1].lower()  ##  case normalization\n",
    "    \n",
    "    text = text.replace('\\\\n', ' ').replace('\\\\t', ' ')\n",
    "    \n",
    "    nopunc = [char for char in text if char not in string.punctuation]\n",
    "    nopunc = ''.join(nopunc)\n",
    "    \n",
    "    l = [word for word in nopunc.split() if word.lower() not in stopwords]\n",
    "    clean_text = \"\"\n",
    "    for word in l:\n",
    "        clean_text += str(word)+\" \"\n",
    "    \n",
    "    return clean_text.strip()"
   ]
  },
  {
   "cell_type": "code",
   "execution_count": 6,
   "metadata": {},
   "outputs": [],
   "source": [
    "def get_words(review):\n",
    "  \n",
    "    stopwords = nltk.corpus.stopwords.words('english')\n",
    "    text = review\n",
    "    \n",
    "    text = text[2: len(review)-1].lower()  ##  case normalization\n",
    "    \n",
    "    text = text.replace('\\\\n', ' ').replace('\\\\t', ' ')\n",
    "    \n",
    "    nopunc = [char for char in text if char not in string.punctuation]\n",
    "    nopunc = ''.join(nopunc)\n",
    "    \n",
    "    display(nopunc)\n",
    "    \n",
    "    l = [word for word in nopunc.split() if word.lower() not in stopwords]\n",
    "    \n",
    "    return l, len(l)"
   ]
  },
  {
   "cell_type": "markdown",
   "metadata": {},
   "source": [
    "Test"
   ]
  },
  {
   "cell_type": "code",
   "execution_count": 7,
   "metadata": {},
   "outputs": [
    {
     "data": {
      "text/plain": [
       "'true pancakes incredible like pancakes ive little skeptical saw crepe pancakes full menu went regular hotcakes breakfast special menu like 4 incredible reviews described soft moist inside yet crispy outside ends good problem cleaning plate even need syrup husband got banana choc chip lot rich taste glad went regulars beyond beyond impressed'"
      ]
     },
     "execution_count": 7,
     "metadata": {},
     "output_type": "execute_result"
    }
   ],
   "source": [
    "sample_review = str(reviews_dataset.text[1])\n",
    "test_1 = get_clean_text(sample_review)\n",
    "test_1"
   ]
  },
  {
   "cell_type": "code",
   "execution_count": 8,
   "metadata": {},
   "outputs": [
    {
     "data": {
      "text/plain": [
       "'s true  the pancakes here are incredible and like no pancakes ive had before  i was a little skeptical when i saw the crepe pancakes on the full menu so went for the regular hotcakes on the breakfast special menu for only what like 4 they are just as incredible as all the other reviews have described  they are soft and moist on the inside yet crispy on the outside ends so good i did not have a problem cleaning my plate and they did not even need any syrup my husband got the banana choc chip which was a lot rich for my taste so was glad i went with the regulars beyond beyond impressed'"
      ]
     },
     "metadata": {},
     "output_type": "display_data"
    },
    {
     "data": {
      "text/plain": [
       "(['true',\n",
       "  'pancakes',\n",
       "  'incredible',\n",
       "  'like',\n",
       "  'pancakes',\n",
       "  'ive',\n",
       "  'little',\n",
       "  'skeptical',\n",
       "  'saw',\n",
       "  'crepe',\n",
       "  'pancakes',\n",
       "  'full',\n",
       "  'menu',\n",
       "  'went',\n",
       "  'regular',\n",
       "  'hotcakes',\n",
       "  'breakfast',\n",
       "  'special',\n",
       "  'menu',\n",
       "  'like',\n",
       "  '4',\n",
       "  'incredible',\n",
       "  'reviews',\n",
       "  'described',\n",
       "  'soft',\n",
       "  'moist',\n",
       "  'inside',\n",
       "  'yet',\n",
       "  'crispy',\n",
       "  'outside',\n",
       "  'ends',\n",
       "  'good',\n",
       "  'problem',\n",
       "  'cleaning',\n",
       "  'plate',\n",
       "  'even',\n",
       "  'need',\n",
       "  'syrup',\n",
       "  'husband',\n",
       "  'got',\n",
       "  'banana',\n",
       "  'choc',\n",
       "  'chip',\n",
       "  'lot',\n",
       "  'rich',\n",
       "  'taste',\n",
       "  'glad',\n",
       "  'went',\n",
       "  'regulars',\n",
       "  'beyond',\n",
       "  'beyond',\n",
       "  'impressed'],\n",
       " 52)"
      ]
     },
     "execution_count": 8,
     "metadata": {},
     "output_type": "execute_result"
    }
   ],
   "source": [
    "test_2 = get_words(sample_review)\n",
    "test_2"
   ]
  },
  {
   "cell_type": "code",
   "execution_count": 9,
   "metadata": {},
   "outputs": [],
   "source": [
    "texts = []\n",
    "stars = [reviews_dataset['stars'] for review in reviews_dataset]\n",
    "for index, row in reviews_dataset.iterrows():\n",
    "    texts.append(get_clean_text(row['text']))"
   ]
  },
  {
   "cell_type": "code",
   "execution_count": 10,
   "metadata": {},
   "outputs": [
    {
     "name": "stdout",
     "output_type": "stream",
     "text": [
      "Wall time: 36.7 s\n"
     ]
    }
   ],
   "source": [
    "%%time\n",
    "from sklearn.feature_extraction.text import TfidfVectorizer\n",
    "\n",
    "# This vectorizer breaks text into single words and bi-grams\n",
    "# and then calculates the TF-IDF representation\n",
    "vectors = TfidfVectorizer(ngram_range=(1,3)).fit_transform(texts)"
   ]
  },
  {
   "cell_type": "markdown",
   "metadata": {},
   "source": [
    "#### Splitting dataset into Train and test Date"
   ]
  },
  {
   "cell_type": "code",
   "execution_count": 11,
   "metadata": {},
   "outputs": [],
   "source": [
    "from sklearn.model_selection import train_test_split\n",
    "X_train, X_test, Y_train, Y_test = train_test_split(vectors, stars[1], test_size=0.20, random_state=0, shuffle =False)"
   ]
  },
  {
   "cell_type": "markdown",
   "metadata": {},
   "source": [
    "### Training model"
   ]
  },
  {
   "cell_type": "code",
   "execution_count": 12,
   "metadata": {},
   "outputs": [
    {
     "name": "stdout",
     "output_type": "stream",
     "text": [
      "Wall time: 10.5 s\n"
     ]
    }
   ],
   "source": [
    "%%time\n",
    "from sklearn.svm import LinearSVC\n",
    "\n",
    "# initialise the SVM classifier\n",
    "classifier = LinearSVC()\n",
    "\n",
    "# train the classifier\n",
    "classifier.fit(X_train, Y_train)"
   ]
  },
  {
   "cell_type": "markdown",
   "metadata": {},
   "source": [
    "### Predict"
   ]
  },
  {
   "cell_type": "code",
   "execution_count": 13,
   "metadata": {},
   "outputs": [
    {
     "name": "stdout",
     "output_type": "stream",
     "text": [
      "Actual Ratings: \n",
      "[5 4 5 4 5 5 5 4 5 5]\n",
      "Predicted Ratings: \n",
      "[5 5 4 4 5 5 5 4 4 4]\n"
     ]
    }
   ],
   "source": [
    "preds = classifier.predict(X_test)\n",
    "print(\"Actual Ratings: \")\n",
    "print(Y_test[:10].values)\n",
    "print(\"Predicted Ratings: \")\n",
    "print(preds[:10])"
   ]
  },
  {
   "cell_type": "markdown",
   "metadata": {},
   "source": [
    "### Evluating the model"
   ]
  },
  {
   "cell_type": "code",
   "execution_count": 14,
   "metadata": {},
   "outputs": [
    {
     "name": "stdout",
     "output_type": "stream",
     "text": [
      "Accuracy: 0.5430444423021306\n",
      "Precision Score: 0.5578438852088291\n",
      "Recall Score: 0.5430444423021306\n"
     ]
    }
   ],
   "source": [
    "from sklearn.metrics import accuracy_score\n",
    "from sklearn.metrics import precision_score\n",
    "from sklearn.metrics import recall_score\n",
    "print('Accuracy: ' + str(accuracy_score(Y_test, preds)))\n",
    "print('Precision Score: ' + str(precision_score(Y_test, preds, average='weighted')))\n",
    "print('Recall Score: '+ str(recall_score(Y_test,preds, average='weighted')))"
   ]
  },
  {
   "cell_type": "code",
   "execution_count": 15,
   "metadata": {},
   "outputs": [],
   "source": [
    "import itertools\n",
    "import matplotlib.pyplot as plt\n",
    "\n",
    "from sklearn import svm, datasets, metrics\n",
    "from sklearn.model_selection import train_test_split\n",
    "from sklearn.metrics import confusion_matrix\n",
    "\n",
    "def plot_confusion_matrix(cm, classes,\n",
    "                          normalize=False,\n",
    "                          title='Confusion matrix',\n",
    "                          cmap=plt.cm.Blues):\n",
    "    \"\"\"\n",
    "    This function prints and plots the confusion matrix.\n",
    "    Normalization can be applied by setting `normalize=True`.\n",
    "    \"\"\"\n",
    "    if normalize:\n",
    "        cm = cm.astype('float') / cm.sum(axis=1)[:, np.newaxis]\n",
    "        print(\"Normalized confusion matrix\")\n",
    "    else:\n",
    "        print('Confusion matrix, without normalization')\n",
    "\n",
    "    print(cm)\n",
    "\n",
    "    plt.imshow(cm, interpolation='nearest', cmap=cmap)\n",
    "    plt.title(title)\n",
    "    plt.colorbar()\n",
    "    tick_marks = np.arange(len(classes))\n",
    "    plt.xticks(tick_marks, classes, rotation=45)\n",
    "    plt.yticks(tick_marks, classes)\n",
    "\n",
    "    fmt = '.2f' if normalize else 'd'\n",
    "    thresh = cm.max() / 2.\n",
    "    for i, j in itertools.product(range(cm.shape[0]), range(cm.shape[1])):\n",
    "        plt.text(j, i, format(cm[i, j], fmt),\n",
    "                 horizontalalignment=\"center\",\n",
    "                 color=\"white\" if cm[i, j] > thresh else \"black\")\n",
    "\n",
    "    plt.ylabel('True label')\n",
    "    plt.xlabel('Predicted label')\n",
    "    plt.tight_layout()"
   ]
  },
  {
   "cell_type": "code",
   "execution_count": 16,
   "metadata": {},
   "outputs": [
    {
     "data": {
      "text/plain": [
       "<Figure size 432x288 with 0 Axes>"
      ]
     },
     "execution_count": 16,
     "metadata": {},
     "output_type": "execute_result"
    },
    {
     "name": "stdout",
     "output_type": "stream",
     "text": [
      "Confusion matrix, without normalization\n",
      "[[ 218  167  108   89   45]\n",
      " [  37  267  449  220   57]\n",
      " [   7   71  950 1113  137]\n",
      " [   4   10  237 2727  743]\n",
      " [   1    1   29 1215 1471]]\n"
     ]
    },
    {
     "data": {
      "text/plain": [
       "<Figure size 432x288 with 0 Axes>"
      ]
     },
     "execution_count": 16,
     "metadata": {},
     "output_type": "execute_result"
    },
    {
     "name": "stdout",
     "output_type": "stream",
     "text": [
      "Normalized confusion matrix\n",
      "[[3.48e-01 2.66e-01 1.72e-01 1.42e-01 7.18e-02]\n",
      " [3.59e-02 2.59e-01 4.36e-01 2.14e-01 5.53e-02]\n",
      " [3.07e-03 3.12e-02 4.17e-01 4.89e-01 6.01e-02]\n",
      " [1.07e-03 2.69e-03 6.37e-02 7.33e-01 2.00e-01]\n",
      " [3.68e-04 3.68e-04 1.07e-02 4.47e-01 5.41e-01]]\n"
     ]
    },
    {
     "data": {
      "image/png": "[encoded data removed]",
      "text/plain": [
       "<Figure size 432x288 with 2 Axes>"
      ]
     },
     "metadata": {},
     "output_type": "display_data"
    },
    {
     "data": {
      "image/png": "[encoded data removed]",
      "text/plain": [
       "<Figure size 432x288 with 2 Axes>"
      ]
     },
     "metadata": {},
     "output_type": "display_data"
    }
   ],
   "source": [
    "class_names = ['1','2','3','4','5']\n",
    "\n",
    "# Compute confusion matrix\n",
    "cnf_matrix = metrics.confusion_matrix(Y_test, preds)\n",
    "np.set_printoptions(precision=2)\n",
    "\n",
    "# Plot non-normalized confusion matrix\n",
    "plt.figure()\n",
    "plot_confusion_matrix(cnf_matrix, classes=class_names,\n",
    "                      title='Confusion matrix, without normalization')\n",
    "\n",
    "# Plot normalized confusion matrix\n",
    "plt.figure()\n",
    "plot_confusion_matrix(cnf_matrix, classes=class_names, normalize=True,\n",
    "                      title='Normalized confusion matrix')\n",
    "\n",
    "plt.show()"
   ]
  }
 ],
 "metadata": {
  "kernelspec": {
   "display_name": "Python 3",
   "language": "python",
   "name": "python3"
  },
  "language_info": {
   "codemirror_mode": {
    "name": "ipython",
    "version": 3
   },
   "file_extension": ".py",
   "mimetype": "text/x-python",
   "name": "python",
   "nbconvert_exporter": "python",
   "pygments_lexer": "ipython3",
   "version": "3.6.5"
  }
 },
 "nbformat": 4,
 "nbformat_minor": 2
}
