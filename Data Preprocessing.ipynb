{
 "cells": [
  {
   "cell_type": "markdown",
   "metadata": {},
   "source": [
    "# Data Preprocessing"
   ]
  },
  {
   "cell_type": "markdown",
   "metadata": {},
   "source": [
    "### Reading json data and load to Pandas"
   ]
  },
  {
   "cell_type": "code",
   "execution_count": 1,
   "metadata": {},
   "outputs": [],
   "source": [
    "import json\n",
    "import pandas as pd"
   ]
  },
  {
   "cell_type": "code",
   "execution_count": 2,
   "metadata": {},
   "outputs": [],
   "source": [
    "file_business, file_checkin, file_review, file_tip, file_user = [\n",
    "    'input/yelp_academic_dataset_business.json',\n",
    "    'input/yelp_academic_dataset_checkin.json',\n",
    "    'input/yelp_academic_dataset_review.json',\n",
    "    'input/yelp_academic_dataset_tip.json',\n",
    "    'input/yelp_academic_dataset_user.json'\n",
    "]"
   ]
  },
  {
   "cell_type": "markdown",
   "metadata": {},
   "source": [
    "#### Business Data"
   ]
  },
  {
   "cell_type": "code",
   "execution_count": 3,
   "metadata": {},
   "outputs": [],
   "source": [
    "with open(file_business, 'rb') as f:\n",
    "    df_business = pd.DataFrame(json.loads(line) for line in f)"
   ]
  },
  {
   "cell_type": "code",
   "execution_count": 4,
   "metadata": {},
   "outputs": [
    {
     "data": {
      "text/html": [
       "<div>\n",
       "<style scoped>\n",
       "    .dataframe tbody tr th:only-of-type {\n",
       "        vertical-align: middle;\n",
       "    }\n",
       "\n",
       "    .dataframe tbody tr th {\n",
       "        vertical-align: top;\n",
       "    }\n",
       "\n",
       "    .dataframe thead th {\n",
       "        text-align: right;\n",
       "    }\n",
       "</style>\n",
       "<table border=\"1\" class=\"dataframe\">\n",
       "  <thead>\n",
       "    <tr style=\"text-align: right;\">\n",
       "      <th></th>\n",
       "      <th>address</th>\n",
       "      <th>attributes</th>\n",
       "      <th>business_id</th>\n",
       "      <th>categories</th>\n",
       "      <th>city</th>\n",
       "      <th>hours</th>\n",
       "      <th>is_open</th>\n",
       "      <th>latitude</th>\n",
       "      <th>longitude</th>\n",
       "      <th>name</th>\n",
       "      <th>neighborhood</th>\n",
       "      <th>postal_code</th>\n",
       "      <th>review_count</th>\n",
       "      <th>stars</th>\n",
       "      <th>state</th>\n",
       "    </tr>\n",
       "  </thead>\n",
       "  <tbody>\n",
       "    <tr>\n",
       "      <th>0</th>\n",
       "      <td>1314 44 Avenue NE</td>\n",
       "      <td>{'BikeParking': 'False', 'BusinessAcceptsCredi...</td>\n",
       "      <td>Apn5Q_b6Nz61Tq4XzPdf9A</td>\n",
       "      <td>Tours, Breweries, Pizza, Restaurants, Food, Ho...</td>\n",
       "      <td>Calgary</td>\n",
       "      <td>{'Monday': '8:30-17:0', 'Tuesday': '11:0-21:0'...</td>\n",
       "      <td>1</td>\n",
       "      <td>51.091813</td>\n",
       "      <td>-114.031675</td>\n",
       "      <td>Minhas Micro Brewery</td>\n",
       "      <td></td>\n",
       "      <td>T2E 6L6</td>\n",
       "      <td>24</td>\n",
       "      <td>4.0</td>\n",
       "      <td>AB</td>\n",
       "    </tr>\n",
       "    <tr>\n",
       "      <th>1</th>\n",
       "      <td></td>\n",
       "      <td>{'Alcohol': 'none', 'BikeParking': 'False', 'B...</td>\n",
       "      <td>AjEbIBw6ZFfln7ePHha9PA</td>\n",
       "      <td>Chicken Wings, Burgers, Caterers, Street Vendo...</td>\n",
       "      <td>Henderson</td>\n",
       "      <td>{'Friday': '17:0-23:0', 'Saturday': '17:0-23:0...</td>\n",
       "      <td>0</td>\n",
       "      <td>35.960734</td>\n",
       "      <td>-114.939821</td>\n",
       "      <td>CK'S BBQ &amp; Catering</td>\n",
       "      <td></td>\n",
       "      <td>89002</td>\n",
       "      <td>3</td>\n",
       "      <td>4.5</td>\n",
       "      <td>NV</td>\n",
       "    </tr>\n",
       "  </tbody>\n",
       "</table>\n",
       "</div>"
      ],
      "text/plain": [
       "             address                                         attributes  \\\n",
       "0  1314 44 Avenue NE  {'BikeParking': 'False', 'BusinessAcceptsCredi...   \n",
       "1                     {'Alcohol': 'none', 'BikeParking': 'False', 'B...   \n",
       "\n",
       "              business_id                                         categories  \\\n",
       "0  Apn5Q_b6Nz61Tq4XzPdf9A  Tours, Breweries, Pizza, Restaurants, Food, Ho...   \n",
       "1  AjEbIBw6ZFfln7ePHha9PA  Chicken Wings, Burgers, Caterers, Street Vendo...   \n",
       "\n",
       "        city                                              hours  is_open  \\\n",
       "0    Calgary  {'Monday': '8:30-17:0', 'Tuesday': '11:0-21:0'...        1   \n",
       "1  Henderson  {'Friday': '17:0-23:0', 'Saturday': '17:0-23:0...        0   \n",
       "\n",
       "    latitude   longitude                  name neighborhood postal_code  \\\n",
       "0  51.091813 -114.031675  Minhas Micro Brewery                  T2E 6L6   \n",
       "1  35.960734 -114.939821   CK'S BBQ & Catering                    89002   \n",
       "\n",
       "   review_count  stars state  \n",
       "0            24    4.0    AB  \n",
       "1             3    4.5    NV  "
      ]
     },
     "execution_count": 4,
     "metadata": {},
     "output_type": "execute_result"
    }
   ],
   "source": [
    "df_business.head(2)"
   ]
  },
  {
   "cell_type": "code",
   "execution_count": 5,
   "metadata": {},
   "outputs": [
    {
     "name": "stdout",
     "output_type": "stream",
     "text": [
      "<class 'pandas.core.frame.DataFrame'>\n",
      "RangeIndex: 188593 entries, 0 to 188592\n",
      "Data columns (total 15 columns):\n",
      "address         188593 non-null object\n",
      "attributes      162807 non-null object\n",
      "business_id     188593 non-null object\n",
      "categories      188052 non-null object\n",
      "city            188593 non-null object\n",
      "hours           143791 non-null object\n",
      "is_open         188593 non-null int64\n",
      "latitude        188587 non-null float64\n",
      "longitude       188587 non-null float64\n",
      "name            188593 non-null object\n",
      "neighborhood    188593 non-null object\n",
      "postal_code     188593 non-null object\n",
      "review_count    188593 non-null int64\n",
      "stars           188593 non-null float64\n",
      "state           188593 non-null object\n",
      "dtypes: float64(3), int64(2), object(10)\n",
      "memory usage: 21.6+ MB\n"
     ]
    }
   ],
   "source": [
    "df_business.info()"
   ]
  },
  {
   "cell_type": "markdown",
   "metadata": {},
   "source": [
    "#### Review Data"
   ]
  },
  {
   "cell_type": "code",
   "execution_count": 6,
   "metadata": {},
   "outputs": [
    {
     "data": {
      "text/html": [
       "<div>\n",
       "<style scoped>\n",
       "    .dataframe tbody tr th:only-of-type {\n",
       "        vertical-align: middle;\n",
       "    }\n",
       "\n",
       "    .dataframe tbody tr th {\n",
       "        vertical-align: top;\n",
       "    }\n",
       "\n",
       "    .dataframe thead th {\n",
       "        text-align: right;\n",
       "    }\n",
       "</style>\n",
       "<table border=\"1\" class=\"dataframe\">\n",
       "  <thead>\n",
       "    <tr style=\"text-align: right;\">\n",
       "      <th></th>\n",
       "      <th>business_id</th>\n",
       "      <th>cool</th>\n",
       "      <th>date</th>\n",
       "      <th>funny</th>\n",
       "      <th>review_id</th>\n",
       "      <th>stars</th>\n",
       "      <th>text</th>\n",
       "      <th>useful</th>\n",
       "      <th>user_id</th>\n",
       "    </tr>\n",
       "  </thead>\n",
       "  <tbody>\n",
       "    <tr>\n",
       "      <th>0</th>\n",
       "      <td>iCQpiavjjPzJ5_3gPD5Ebg</td>\n",
       "      <td>0</td>\n",
       "      <td>2011-02-25</td>\n",
       "      <td>0</td>\n",
       "      <td>x7mDIiDB3jEiPGPHOmDzyw</td>\n",
       "      <td>2</td>\n",
       "      <td>The pizza was okay. Not the best I've had. I p...</td>\n",
       "      <td>0</td>\n",
       "      <td>msQe1u7Z_XuqjGoqhB0J5g</td>\n",
       "    </tr>\n",
       "    <tr>\n",
       "      <th>1</th>\n",
       "      <td>pomGBqfbxcqPv14c3XH-ZQ</td>\n",
       "      <td>0</td>\n",
       "      <td>2012-11-13</td>\n",
       "      <td>0</td>\n",
       "      <td>dDl8zu1vWPdKGihJrwQbpw</td>\n",
       "      <td>5</td>\n",
       "      <td>I love this place! My fiance And I go here atl...</td>\n",
       "      <td>0</td>\n",
       "      <td>msQe1u7Z_XuqjGoqhB0J5g</td>\n",
       "    </tr>\n",
       "  </tbody>\n",
       "</table>\n",
       "</div>"
      ],
      "text/plain": [
       "              business_id  cool        date  funny               review_id  \\\n",
       "0  iCQpiavjjPzJ5_3gPD5Ebg     0  2011-02-25      0  x7mDIiDB3jEiPGPHOmDzyw   \n",
       "1  pomGBqfbxcqPv14c3XH-ZQ     0  2012-11-13      0  dDl8zu1vWPdKGihJrwQbpw   \n",
       "\n",
       "   stars                                               text  useful  \\\n",
       "0      2  The pizza was okay. Not the best I've had. I p...       0   \n",
       "1      5  I love this place! My fiance And I go here atl...       0   \n",
       "\n",
       "                  user_id  \n",
       "0  msQe1u7Z_XuqjGoqhB0J5g  \n",
       "1  msQe1u7Z_XuqjGoqhB0J5g  "
      ]
     },
     "execution_count": 6,
     "metadata": {},
     "output_type": "execute_result"
    }
   ],
   "source": [
    "with open(file_review, encoding='utf-8') as f:\n",
    "    df_review = pd.DataFrame(json.loads(line) for line in f)\n",
    "df_review.head(2)"
   ]
  },
  {
   "cell_type": "code",
   "execution_count": 7,
   "metadata": {},
   "outputs": [
    {
     "name": "stdout",
     "output_type": "stream",
     "text": [
      "<class 'pandas.core.frame.DataFrame'>\n",
      "RangeIndex: 5996996 entries, 0 to 5996995\n",
      "Data columns (total 9 columns):\n",
      "business_id    object\n",
      "cool           int64\n",
      "date           object\n",
      "funny          int64\n",
      "review_id      object\n",
      "stars          int64\n",
      "text           object\n",
      "useful         int64\n",
      "user_id        object\n",
      "dtypes: int64(4), object(5)\n",
      "memory usage: 411.8+ MB\n"
     ]
    }
   ],
   "source": [
    "df_review.info()"
   ]
  },
  {
   "cell_type": "markdown",
   "metadata": {},
   "source": [
    "#### User Data"
   ]
  },
  {
   "cell_type": "code",
   "execution_count": 8,
   "metadata": {},
   "outputs": [
    {
     "data": {
      "text/html": [
       "<div>\n",
       "<style scoped>\n",
       "    .dataframe tbody tr th:only-of-type {\n",
       "        vertical-align: middle;\n",
       "    }\n",
       "\n",
       "    .dataframe tbody tr th {\n",
       "        vertical-align: top;\n",
       "    }\n",
       "\n",
       "    .dataframe thead th {\n",
       "        text-align: right;\n",
       "    }\n",
       "</style>\n",
       "<table border=\"1\" class=\"dataframe\">\n",
       "  <thead>\n",
       "    <tr style=\"text-align: right;\">\n",
       "      <th></th>\n",
       "      <th>average_stars</th>\n",
       "      <th>compliment_cool</th>\n",
       "      <th>compliment_cute</th>\n",
       "      <th>compliment_funny</th>\n",
       "      <th>compliment_hot</th>\n",
       "      <th>compliment_list</th>\n",
       "      <th>compliment_more</th>\n",
       "      <th>compliment_note</th>\n",
       "      <th>compliment_photos</th>\n",
       "      <th>compliment_plain</th>\n",
       "      <th>...</th>\n",
       "      <th>cool</th>\n",
       "      <th>elite</th>\n",
       "      <th>fans</th>\n",
       "      <th>friends</th>\n",
       "      <th>funny</th>\n",
       "      <th>name</th>\n",
       "      <th>review_count</th>\n",
       "      <th>useful</th>\n",
       "      <th>user_id</th>\n",
       "      <th>yelping_since</th>\n",
       "    </tr>\n",
       "  </thead>\n",
       "  <tbody>\n",
       "    <tr>\n",
       "      <th>0</th>\n",
       "      <td>2.0</td>\n",
       "      <td>0</td>\n",
       "      <td>0</td>\n",
       "      <td>0</td>\n",
       "      <td>0</td>\n",
       "      <td>0</td>\n",
       "      <td>0</td>\n",
       "      <td>0</td>\n",
       "      <td>0</td>\n",
       "      <td>0</td>\n",
       "      <td>...</td>\n",
       "      <td>0</td>\n",
       "      <td>None</td>\n",
       "      <td>0</td>\n",
       "      <td>None</td>\n",
       "      <td>0</td>\n",
       "      <td>Susan</td>\n",
       "      <td>1</td>\n",
       "      <td>0</td>\n",
       "      <td>lzlZwIpuSWXEnNS91wxjHw</td>\n",
       "      <td>2015-09-28</td>\n",
       "    </tr>\n",
       "    <tr>\n",
       "      <th>1</th>\n",
       "      <td>5.0</td>\n",
       "      <td>0</td>\n",
       "      <td>0</td>\n",
       "      <td>0</td>\n",
       "      <td>0</td>\n",
       "      <td>0</td>\n",
       "      <td>0</td>\n",
       "      <td>0</td>\n",
       "      <td>0</td>\n",
       "      <td>0</td>\n",
       "      <td>...</td>\n",
       "      <td>0</td>\n",
       "      <td>None</td>\n",
       "      <td>0</td>\n",
       "      <td>None</td>\n",
       "      <td>0</td>\n",
       "      <td>Daipayan</td>\n",
       "      <td>2</td>\n",
       "      <td>0</td>\n",
       "      <td>XvLBr-9smbI0m_a7dXtB7w</td>\n",
       "      <td>2015-09-05</td>\n",
       "    </tr>\n",
       "  </tbody>\n",
       "</table>\n",
       "<p>2 rows × 22 columns</p>\n",
       "</div>"
      ],
      "text/plain": [
       "   average_stars  compliment_cool  compliment_cute  compliment_funny  \\\n",
       "0            2.0                0                0                 0   \n",
       "1            5.0                0                0                 0   \n",
       "\n",
       "   compliment_hot  compliment_list  compliment_more  compliment_note  \\\n",
       "0               0                0                0                0   \n",
       "1               0                0                0                0   \n",
       "\n",
       "   compliment_photos  compliment_plain      ...        cool  elite  fans  \\\n",
       "0                  0                 0      ...           0   None     0   \n",
       "1                  0                 0      ...           0   None     0   \n",
       "\n",
       "  friends  funny      name  review_count useful                 user_id  \\\n",
       "0    None      0     Susan             1      0  lzlZwIpuSWXEnNS91wxjHw   \n",
       "1    None      0  Daipayan             2      0  XvLBr-9smbI0m_a7dXtB7w   \n",
       "\n",
       "   yelping_since  \n",
       "0     2015-09-28  \n",
       "1     2015-09-05  \n",
       "\n",
       "[2 rows x 22 columns]"
      ]
     },
     "execution_count": 8,
     "metadata": {},
     "output_type": "execute_result"
    }
   ],
   "source": [
    "with open(file_user, 'rb') as f:\n",
    "    df_user = pd.DataFrame(json.loads(line) for line in f)\n",
    "df_user.head(2)"
   ]
  },
  {
   "cell_type": "code",
   "execution_count": 9,
   "metadata": {},
   "outputs": [
    {
     "name": "stdout",
     "output_type": "stream",
     "text": [
      "<class 'pandas.core.frame.DataFrame'>\n",
      "RangeIndex: 1518169 entries, 0 to 1518168\n",
      "Data columns (total 22 columns):\n",
      "average_stars         1518169 non-null float64\n",
      "compliment_cool       1518169 non-null int64\n",
      "compliment_cute       1518169 non-null int64\n",
      "compliment_funny      1518169 non-null int64\n",
      "compliment_hot        1518169 non-null int64\n",
      "compliment_list       1518169 non-null int64\n",
      "compliment_more       1518169 non-null int64\n",
      "compliment_note       1518169 non-null int64\n",
      "compliment_photos     1518169 non-null int64\n",
      "compliment_plain      1518169 non-null int64\n",
      "compliment_profile    1518169 non-null int64\n",
      "compliment_writer     1518169 non-null int64\n",
      "cool                  1518169 non-null int64\n",
      "elite                 1518169 non-null object\n",
      "fans                  1518169 non-null int64\n",
      "friends               1518169 non-null object\n",
      "funny                 1518169 non-null int64\n",
      "name                  1518169 non-null object\n",
      "review_count          1518169 non-null int64\n",
      "useful                1518169 non-null int64\n",
      "user_id               1518169 non-null object\n",
      "yelping_since         1518169 non-null object\n",
      "dtypes: float64(1), int64(16), object(5)\n",
      "memory usage: 254.8+ MB\n"
     ]
    }
   ],
   "source": [
    "df_user.info()"
   ]
  },
  {
   "cell_type": "markdown",
   "metadata": {},
   "source": [
    "### Filter business data"
   ]
  },
  {
   "cell_type": "markdown",
   "metadata": {},
   "source": [
    "#### Select related business:\n",
    "- That contains \"Restaurants\" in their category\n",
    "- That located in state of California"
   ]
  },
  {
   "cell_type": "code",
   "execution_count": 10,
   "metadata": {},
   "outputs": [
    {
     "name": "stdout",
     "output_type": "stream",
     "text": [
      "<class 'pandas.core.frame.DataFrame'>\n",
      "Int64Index: 6804 entries, 9 to 188589\n",
      "Data columns (total 15 columns):\n",
      "address         6804 non-null object\n",
      "attributes      5980 non-null object\n",
      "business_id     6804 non-null object\n",
      "categories      6790 non-null object\n",
      "city            6804 non-null object\n",
      "hours           5039 non-null object\n",
      "is_open         6804 non-null int64\n",
      "latitude        6804 non-null float64\n",
      "longitude       6804 non-null float64\n",
      "name            6804 non-null object\n",
      "neighborhood    6804 non-null object\n",
      "postal_code     6804 non-null object\n",
      "review_count    6804 non-null int64\n",
      "stars           6804 non-null float64\n",
      "state           6804 non-null object\n",
      "dtypes: float64(3), int64(2), object(10)\n",
      "memory usage: 850.5+ KB\n"
     ]
    }
   ],
   "source": [
    "# Create Pandas DataFrame filters\n",
    "df_business_p= df_business[df_business.city=='Pittsburgh']\n",
    "df_business_p.info()"
   ]
  },
  {
   "cell_type": "code",
   "execution_count": 11,
   "metadata": {},
   "outputs": [],
   "source": [
    "# Create filtered DataFrame, and name it df_filtered\n",
    "df_business_p = df_business_p[df_business_p.categories.notnull()]\n",
    "df_filtered = df_business_p[df_business_p[\"categories\"].apply(str).str.contains(\"Restaurants\")]"
   ]
  },
  {
   "cell_type": "code",
   "execution_count": 12,
   "metadata": {},
   "outputs": [
    {
     "data": {
      "text/html": [
       "<div>\n",
       "<style scoped>\n",
       "    .dataframe tbody tr th:only-of-type {\n",
       "        vertical-align: middle;\n",
       "    }\n",
       "\n",
       "    .dataframe tbody tr th {\n",
       "        vertical-align: top;\n",
       "    }\n",
       "\n",
       "    .dataframe thead th {\n",
       "        text-align: right;\n",
       "    }\n",
       "</style>\n",
       "<table border=\"1\" class=\"dataframe\">\n",
       "  <thead>\n",
       "    <tr style=\"text-align: right;\">\n",
       "      <th></th>\n",
       "      <th>address</th>\n",
       "      <th>attributes</th>\n",
       "      <th>business_id</th>\n",
       "      <th>categories</th>\n",
       "      <th>city</th>\n",
       "      <th>hours</th>\n",
       "      <th>is_open</th>\n",
       "      <th>latitude</th>\n",
       "      <th>longitude</th>\n",
       "      <th>name</th>\n",
       "      <th>neighborhood</th>\n",
       "      <th>postal_code</th>\n",
       "      <th>review_count</th>\n",
       "      <th>stars</th>\n",
       "      <th>state</th>\n",
       "    </tr>\n",
       "  </thead>\n",
       "  <tbody>\n",
       "    <tr>\n",
       "      <th>73</th>\n",
       "      <td>5440 Walnut St</td>\n",
       "      <td>{'Alcohol': 'full_bar', 'Ambience': '{'romanti...</td>\n",
       "      <td>f2FfutZhb4F-m1Ob0EdYaw</td>\n",
       "      <td>Asian Fusion, Caterers, Fast Food, Chinese, Re...</td>\n",
       "      <td>Pittsburgh</td>\n",
       "      <td>{'Monday': '11:0-22:0', 'Tuesday': '11:0-22:0'...</td>\n",
       "      <td>1</td>\n",
       "      <td>40.450866</td>\n",
       "      <td>-79.933919</td>\n",
       "      <td>China Palace</td>\n",
       "      <td>Shadyside</td>\n",
       "      <td>15232</td>\n",
       "      <td>110</td>\n",
       "      <td>3.0</td>\n",
       "      <td>PA</td>\n",
       "    </tr>\n",
       "    <tr>\n",
       "      <th>89</th>\n",
       "      <td>4635 Centre Ave</td>\n",
       "      <td>{'Ambience': '{'romantic': False, 'intimate': ...</td>\n",
       "      <td>qfcdMhm1Ff28JHVpHca20g</td>\n",
       "      <td>Pizza, Restaurants</td>\n",
       "      <td>Pittsburgh</td>\n",
       "      <td>{'Monday': '10:0-1:0', 'Tuesday': '10:0-1:0', ...</td>\n",
       "      <td>1</td>\n",
       "      <td>40.452410</td>\n",
       "      <td>-79.950668</td>\n",
       "      <td>Pizza Bellagio</td>\n",
       "      <td>Oakland</td>\n",
       "      <td>15213</td>\n",
       "      <td>18</td>\n",
       "      <td>1.5</td>\n",
       "      <td>PA</td>\n",
       "    </tr>\n",
       "    <tr>\n",
       "      <th>295</th>\n",
       "      <td>500 Liberty Ave</td>\n",
       "      <td>{'Alcohol': 'none', 'Ambience': '{'romantic': ...</td>\n",
       "      <td>rreIYrzI9U052p7nN_qogA</td>\n",
       "      <td>Sushi Bars, Food, Thai, Poke, Japanese, Restau...</td>\n",
       "      <td>Pittsburgh</td>\n",
       "      <td>{'Monday': '11:0-19:0', 'Tuesday': '11:0-19:0'...</td>\n",
       "      <td>1</td>\n",
       "      <td>40.441321</td>\n",
       "      <td>-80.003514</td>\n",
       "      <td>Pittsburgh Poke</td>\n",
       "      <td>Downtown</td>\n",
       "      <td>15222</td>\n",
       "      <td>94</td>\n",
       "      <td>4.5</td>\n",
       "      <td>PA</td>\n",
       "    </tr>\n",
       "    <tr>\n",
       "      <th>298</th>\n",
       "      <td>101 Panther Hollow Rd</td>\n",
       "      <td>{'BikeParking': 'True', 'BusinessAcceptsCredit...</td>\n",
       "      <td>eva56motCJcevOwKzyQO1g</td>\n",
       "      <td>Cafes, Hotels &amp; Travel, Swimming Pools, Travel...</td>\n",
       "      <td>Pittsburgh</td>\n",
       "      <td>{'Monday': '6:0-23:0', 'Tuesday': '6:0-23:0', ...</td>\n",
       "      <td>1</td>\n",
       "      <td>40.437541</td>\n",
       "      <td>-79.948883</td>\n",
       "      <td>Schenley Park Visitors Center</td>\n",
       "      <td>Oakland</td>\n",
       "      <td>15213</td>\n",
       "      <td>12</td>\n",
       "      <td>5.0</td>\n",
       "      <td>PA</td>\n",
       "    </tr>\n",
       "    <tr>\n",
       "      <th>319</th>\n",
       "      <td>1836 Centre Ave</td>\n",
       "      <td>{'BusinessParking': '{'garage': False, 'street...</td>\n",
       "      <td>dUeEAGxEwMv1Tafj6yr1BA</td>\n",
       "      <td>Food, Cafes, Coffee &amp; Tea, Restaurants</td>\n",
       "      <td>Pittsburgh</td>\n",
       "      <td>{'Monday': '7:0-19:0', 'Tuesday': '7:0-19:0', ...</td>\n",
       "      <td>1</td>\n",
       "      <td>40.442597</td>\n",
       "      <td>-79.982292</td>\n",
       "      <td>Crazy Mocha</td>\n",
       "      <td>The Hill District</td>\n",
       "      <td>15219</td>\n",
       "      <td>3</td>\n",
       "      <td>5.0</td>\n",
       "      <td>PA</td>\n",
       "    </tr>\n",
       "  </tbody>\n",
       "</table>\n",
       "</div>"
      ],
      "text/plain": [
       "                   address                                         attributes  \\\n",
       "73          5440 Walnut St  {'Alcohol': 'full_bar', 'Ambience': '{'romanti...   \n",
       "89         4635 Centre Ave  {'Ambience': '{'romantic': False, 'intimate': ...   \n",
       "295        500 Liberty Ave  {'Alcohol': 'none', 'Ambience': '{'romantic': ...   \n",
       "298  101 Panther Hollow Rd  {'BikeParking': 'True', 'BusinessAcceptsCredit...   \n",
       "319        1836 Centre Ave  {'BusinessParking': '{'garage': False, 'street...   \n",
       "\n",
       "                business_id  \\\n",
       "73   f2FfutZhb4F-m1Ob0EdYaw   \n",
       "89   qfcdMhm1Ff28JHVpHca20g   \n",
       "295  rreIYrzI9U052p7nN_qogA   \n",
       "298  eva56motCJcevOwKzyQO1g   \n",
       "319  dUeEAGxEwMv1Tafj6yr1BA   \n",
       "\n",
       "                                            categories        city  \\\n",
       "73   Asian Fusion, Caterers, Fast Food, Chinese, Re...  Pittsburgh   \n",
       "89                                  Pizza, Restaurants  Pittsburgh   \n",
       "295  Sushi Bars, Food, Thai, Poke, Japanese, Restau...  Pittsburgh   \n",
       "298  Cafes, Hotels & Travel, Swimming Pools, Travel...  Pittsburgh   \n",
       "319             Food, Cafes, Coffee & Tea, Restaurants  Pittsburgh   \n",
       "\n",
       "                                                 hours  is_open   latitude  \\\n",
       "73   {'Monday': '11:0-22:0', 'Tuesday': '11:0-22:0'...        1  40.450866   \n",
       "89   {'Monday': '10:0-1:0', 'Tuesday': '10:0-1:0', ...        1  40.452410   \n",
       "295  {'Monday': '11:0-19:0', 'Tuesday': '11:0-19:0'...        1  40.441321   \n",
       "298  {'Monday': '6:0-23:0', 'Tuesday': '6:0-23:0', ...        1  40.437541   \n",
       "319  {'Monday': '7:0-19:0', 'Tuesday': '7:0-19:0', ...        1  40.442597   \n",
       "\n",
       "     longitude                           name       neighborhood postal_code  \\\n",
       "73  -79.933919                   China Palace          Shadyside       15232   \n",
       "89  -79.950668                 Pizza Bellagio            Oakland       15213   \n",
       "295 -80.003514                Pittsburgh Poke           Downtown       15222   \n",
       "298 -79.948883  Schenley Park Visitors Center            Oakland       15213   \n",
       "319 -79.982292                    Crazy Mocha  The Hill District       15219   \n",
       "\n",
       "     review_count  stars state  \n",
       "73            110    3.0    PA  \n",
       "89             18    1.5    PA  \n",
       "295            94    4.5    PA  \n",
       "298            12    5.0    PA  \n",
       "319             3    5.0    PA  "
      ]
     },
     "execution_count": 12,
     "metadata": {},
     "output_type": "execute_result"
    }
   ],
   "source": [
    "df_filtered.head()"
   ]
  },
  {
   "cell_type": "code",
   "execution_count": 13,
   "metadata": {},
   "outputs": [
    {
     "name": "stdout",
     "output_type": "stream",
     "text": [
      "<class 'pandas.core.frame.DataFrame'>\n",
      "Int64Index: 2305 entries, 73 to 188523\n",
      "Data columns (total 15 columns):\n",
      "address         2305 non-null object\n",
      "attributes      2256 non-null object\n",
      "business_id     2305 non-null object\n",
      "categories      2305 non-null object\n",
      "city            2305 non-null object\n",
      "hours           1834 non-null object\n",
      "is_open         2305 non-null int64\n",
      "latitude        2305 non-null float64\n",
      "longitude       2305 non-null float64\n",
      "name            2305 non-null object\n",
      "neighborhood    2305 non-null object\n",
      "postal_code     2305 non-null object\n",
      "review_count    2305 non-null int64\n",
      "stars           2305 non-null float64\n",
      "state           2305 non-null object\n",
      "dtypes: float64(3), int64(2), object(10)\n",
      "memory usage: 288.1+ KB\n"
     ]
    }
   ],
   "source": [
    "df_filtered.info()"
   ]
  },
  {
   "cell_type": "markdown",
   "metadata": {},
   "source": [
    "#### Only selected those business with more than 10 reviews"
   ]
  },
  {
   "cell_type": "code",
   "execution_count": 14,
   "metadata": {},
   "outputs": [],
   "source": [
    "df_filtered = df_filtered[df_filtered.review_count > 10]"
   ]
  },
  {
   "cell_type": "code",
   "execution_count": 15,
   "metadata": {},
   "outputs": [
    {
     "name": "stdout",
     "output_type": "stream",
     "text": [
      "<class 'pandas.core.frame.DataFrame'>\n",
      "Int64Index: 1635 entries, 73 to 188523\n",
      "Data columns (total 15 columns):\n",
      "address         1635 non-null object\n",
      "attributes      1634 non-null object\n",
      "business_id     1635 non-null object\n",
      "categories      1635 non-null object\n",
      "city            1635 non-null object\n",
      "hours           1472 non-null object\n",
      "is_open         1635 non-null int64\n",
      "latitude        1635 non-null float64\n",
      "longitude       1635 non-null float64\n",
      "name            1635 non-null object\n",
      "neighborhood    1635 non-null object\n",
      "postal_code     1635 non-null object\n",
      "review_count    1635 non-null int64\n",
      "stars           1635 non-null float64\n",
      "state           1635 non-null object\n",
      "dtypes: float64(3), int64(2), object(10)\n",
      "memory usage: 204.4+ KB\n"
     ]
    }
   ],
   "source": [
    "df_filtered.info()"
   ]
  },
  {
   "cell_type": "markdown",
   "metadata": {},
   "source": [
    "#### Get rid of unrelated columns"
   ]
  },
  {
   "cell_type": "code",
   "execution_count": 16,
   "metadata": {},
   "outputs": [],
   "source": [
    "selected_features = ['business_id', 'name', 'categories','attributes','city']"
   ]
  },
  {
   "cell_type": "code",
   "execution_count": 17,
   "metadata": {},
   "outputs": [],
   "source": [
    "# Make a DataFrame that contains only the abovementioned columns, and name it as df_selected_business\n",
    "df_selected_business = df_filtered[selected_features]\n",
    "df_selected_business = df_selected_business[df_selected_business.attributes.notnull()]"
   ]
  },
  {
   "cell_type": "code",
   "execution_count": 18,
   "metadata": {},
   "outputs": [
    {
     "data": {
      "text/html": [
       "<div>\n",
       "<style scoped>\n",
       "    .dataframe tbody tr th:only-of-type {\n",
       "        vertical-align: middle;\n",
       "    }\n",
       "\n",
       "    .dataframe tbody tr th {\n",
       "        vertical-align: top;\n",
       "    }\n",
       "\n",
       "    .dataframe thead th {\n",
       "        text-align: right;\n",
       "    }\n",
       "</style>\n",
       "<table border=\"1\" class=\"dataframe\">\n",
       "  <thead>\n",
       "    <tr style=\"text-align: right;\">\n",
       "      <th></th>\n",
       "      <th>business_id</th>\n",
       "      <th>name</th>\n",
       "      <th>categories</th>\n",
       "      <th>attributes</th>\n",
       "      <th>city</th>\n",
       "    </tr>\n",
       "  </thead>\n",
       "  <tbody>\n",
       "    <tr>\n",
       "      <th>73</th>\n",
       "      <td>f2FfutZhb4F-m1Ob0EdYaw</td>\n",
       "      <td>China Palace</td>\n",
       "      <td>Asian Fusion, Caterers, Fast Food, Chinese, Re...</td>\n",
       "      <td>{'Alcohol': 'full_bar', 'Ambience': '{'romanti...</td>\n",
       "      <td>Pittsburgh</td>\n",
       "    </tr>\n",
       "    <tr>\n",
       "      <th>89</th>\n",
       "      <td>qfcdMhm1Ff28JHVpHca20g</td>\n",
       "      <td>Pizza Bellagio</td>\n",
       "      <td>Pizza, Restaurants</td>\n",
       "      <td>{'Ambience': '{'romantic': False, 'intimate': ...</td>\n",
       "      <td>Pittsburgh</td>\n",
       "    </tr>\n",
       "    <tr>\n",
       "      <th>295</th>\n",
       "      <td>rreIYrzI9U052p7nN_qogA</td>\n",
       "      <td>Pittsburgh Poke</td>\n",
       "      <td>Sushi Bars, Food, Thai, Poke, Japanese, Restau...</td>\n",
       "      <td>{'Alcohol': 'none', 'Ambience': '{'romantic': ...</td>\n",
       "      <td>Pittsburgh</td>\n",
       "    </tr>\n",
       "    <tr>\n",
       "      <th>298</th>\n",
       "      <td>eva56motCJcevOwKzyQO1g</td>\n",
       "      <td>Schenley Park Visitors Center</td>\n",
       "      <td>Cafes, Hotels &amp; Travel, Swimming Pools, Travel...</td>\n",
       "      <td>{'BikeParking': 'True', 'BusinessAcceptsCredit...</td>\n",
       "      <td>Pittsburgh</td>\n",
       "    </tr>\n",
       "    <tr>\n",
       "      <th>432</th>\n",
       "      <td>HiHUTSxpyKhQqLFti3Xnzw</td>\n",
       "      <td>The Commoner Corner</td>\n",
       "      <td>Breakfast &amp; Brunch, Restaurants</td>\n",
       "      <td>{'Alcohol': 'full_bar', 'Ambience': '{'romanti...</td>\n",
       "      <td>Pittsburgh</td>\n",
       "    </tr>\n",
       "  </tbody>\n",
       "</table>\n",
       "</div>"
      ],
      "text/plain": [
       "                business_id                           name  \\\n",
       "73   f2FfutZhb4F-m1Ob0EdYaw                   China Palace   \n",
       "89   qfcdMhm1Ff28JHVpHca20g                 Pizza Bellagio   \n",
       "295  rreIYrzI9U052p7nN_qogA                Pittsburgh Poke   \n",
       "298  eva56motCJcevOwKzyQO1g  Schenley Park Visitors Center   \n",
       "432  HiHUTSxpyKhQqLFti3Xnzw            The Commoner Corner   \n",
       "\n",
       "                                            categories  \\\n",
       "73   Asian Fusion, Caterers, Fast Food, Chinese, Re...   \n",
       "89                                  Pizza, Restaurants   \n",
       "295  Sushi Bars, Food, Thai, Poke, Japanese, Restau...   \n",
       "298  Cafes, Hotels & Travel, Swimming Pools, Travel...   \n",
       "432                    Breakfast & Brunch, Restaurants   \n",
       "\n",
       "                                            attributes        city  \n",
       "73   {'Alcohol': 'full_bar', 'Ambience': '{'romanti...  Pittsburgh  \n",
       "89   {'Ambience': '{'romantic': False, 'intimate': ...  Pittsburgh  \n",
       "295  {'Alcohol': 'none', 'Ambience': '{'romantic': ...  Pittsburgh  \n",
       "298  {'BikeParking': 'True', 'BusinessAcceptsCredit...  Pittsburgh  \n",
       "432  {'Alcohol': 'full_bar', 'Ambience': '{'romanti...  Pittsburgh  "
      ]
     },
     "execution_count": 18,
     "metadata": {},
     "output_type": "execute_result"
    }
   ],
   "source": [
    "df_selected_business.head()"
   ]
  },
  {
   "cell_type": "markdown",
   "metadata": {},
   "source": [
    "### User review data"
   ]
  },
  {
   "cell_type": "markdown",
   "metadata": {},
   "source": [
    "#### Select user who give more than 20 reviews"
   ]
  },
  {
   "cell_type": "code",
   "execution_count": 19,
   "metadata": {},
   "outputs": [],
   "source": [
    "user_num = df_review['user_id'].nunique()"
   ]
  },
  {
   "cell_type": "code",
   "execution_count": 20,
   "metadata": {},
   "outputs": [
    {
     "data": {
      "text/plain": [
       "1518169"
      ]
     },
     "execution_count": 20,
     "metadata": {},
     "output_type": "execute_result"
    }
   ],
   "source": [
    "user_num"
   ]
  },
  {
   "cell_type": "code",
   "execution_count": 21,
   "metadata": {},
   "outputs": [],
   "source": [
    "user_review_num = df_review['user_id'].value_counts()\n",
    "users = user_review_num[user_review_num > 20]"
   ]
  },
  {
   "cell_type": "code",
   "execution_count": 22,
   "metadata": {},
   "outputs": [],
   "source": [
    "df_review = df_review[df_review.user_id.isin(users.index.tolist())]"
   ]
  },
  {
   "cell_type": "code",
   "execution_count": 23,
   "metadata": {},
   "outputs": [
    {
     "name": "stdout",
     "output_type": "stream",
     "text": [
      "<class 'pandas.core.frame.DataFrame'>\n",
      "Int64Index: 2092104 entries, 43 to 5996974\n",
      "Data columns (total 9 columns):\n",
      "business_id    object\n",
      "cool           int64\n",
      "date           object\n",
      "funny          int64\n",
      "review_id      object\n",
      "stars          int64\n",
      "text           object\n",
      "useful         int64\n",
      "user_id        object\n",
      "dtypes: int64(4), object(5)\n",
      "memory usage: 159.6+ MB\n"
     ]
    }
   ],
   "source": [
    "df_review.info()"
   ]
  },
  {
   "cell_type": "markdown",
   "metadata": {},
   "source": [
    "#### Select related user reviews:\n",
    "- That the reviewed business is in Pittsburgh"
   ]
  },
  {
   "cell_type": "code",
   "execution_count": 24,
   "metadata": {},
   "outputs": [],
   "source": [
    "selected_features = ['business_id','stars','user_id','text']\n",
    "df_review_selected = df_review[selected_features]"
   ]
  },
  {
   "cell_type": "code",
   "execution_count": 25,
   "metadata": {},
   "outputs": [
    {
     "name": "stdout",
     "output_type": "stream",
     "text": [
      "<class 'pandas.core.frame.DataFrame'>\n",
      "Int64Index: 51864 entries, 0 to 51863\n",
      "Data columns (total 8 columns):\n",
      "business_id    51864 non-null object\n",
      "stars          51864 non-null int64\n",
      "user_id        51864 non-null object\n",
      "text           51864 non-null object\n",
      "name           51864 non-null object\n",
      "categories     51864 non-null object\n",
      "attributes     51864 non-null object\n",
      "city           51864 non-null object\n",
      "dtypes: int64(1), object(7)\n",
      "memory usage: 3.6+ MB\n"
     ]
    }
   ],
   "source": [
    "# Create Pandas DataFrame filters\n",
    "df_review_p=pd.merge(df_review_selected, df_selected_business, on='business_id')\n",
    "df_review_p.info()"
   ]
  },
  {
   "cell_type": "code",
   "execution_count": 26,
   "metadata": {
    "scrolled": true
   },
   "outputs": [
    {
     "data": {
      "text/html": [
       "<div>\n",
       "<style scoped>\n",
       "    .dataframe tbody tr th:only-of-type {\n",
       "        vertical-align: middle;\n",
       "    }\n",
       "\n",
       "    .dataframe tbody tr th {\n",
       "        vertical-align: top;\n",
       "    }\n",
       "\n",
       "    .dataframe thead th {\n",
       "        text-align: right;\n",
       "    }\n",
       "</style>\n",
       "<table border=\"1\" class=\"dataframe\">\n",
       "  <thead>\n",
       "    <tr style=\"text-align: right;\">\n",
       "      <th></th>\n",
       "      <th>business_id</th>\n",
       "      <th>stars</th>\n",
       "      <th>user_id</th>\n",
       "      <th>text</th>\n",
       "      <th>name</th>\n",
       "      <th>categories</th>\n",
       "      <th>attributes</th>\n",
       "      <th>city</th>\n",
       "    </tr>\n",
       "  </thead>\n",
       "  <tbody>\n",
       "    <tr>\n",
       "      <th>0</th>\n",
       "      <td>YO8sWa0wYChH6DQWnE6NFg</td>\n",
       "      <td>4</td>\n",
       "      <td>djSJ6a9gsLSdj-7BoyNNQA</td>\n",
       "      <td>You're not gonna find a much better breakfast ...</td>\n",
       "      <td>P&amp;G's Pamela's Diner</td>\n",
       "      <td>Restaurants, Breakfast &amp; Brunch</td>\n",
       "      <td>{'Alcohol': 'none', 'Ambience': '{'romantic': ...</td>\n",
       "      <td>Pittsburgh</td>\n",
       "    </tr>\n",
       "    <tr>\n",
       "      <th>1</th>\n",
       "      <td>YO8sWa0wYChH6DQWnE6NFg</td>\n",
       "      <td>4</td>\n",
       "      <td>Tj58A0_D-WsD-UirmpYSEQ</td>\n",
       "      <td>It's true.  The pancakes here are incredible, ...</td>\n",
       "      <td>P&amp;G's Pamela's Diner</td>\n",
       "      <td>Restaurants, Breakfast &amp; Brunch</td>\n",
       "      <td>{'Alcohol': 'none', 'Ambience': '{'romantic': ...</td>\n",
       "      <td>Pittsburgh</td>\n",
       "    </tr>\n",
       "    <tr>\n",
       "      <th>2</th>\n",
       "      <td>YO8sWa0wYChH6DQWnE6NFg</td>\n",
       "      <td>1</td>\n",
       "      <td>lwCt_LgGAbPQpNRpaDR_Fg</td>\n",
       "      <td>Pamela's is not anything great (heavy and grea...</td>\n",
       "      <td>P&amp;G's Pamela's Diner</td>\n",
       "      <td>Restaurants, Breakfast &amp; Brunch</td>\n",
       "      <td>{'Alcohol': 'none', 'Ambience': '{'romantic': ...</td>\n",
       "      <td>Pittsburgh</td>\n",
       "    </tr>\n",
       "    <tr>\n",
       "      <th>3</th>\n",
       "      <td>YO8sWa0wYChH6DQWnE6NFg</td>\n",
       "      <td>3</td>\n",
       "      <td>Figs8mO8s_aPRq2W7W0cYQ</td>\n",
       "      <td>I've been here a couple of times for brunch. I...</td>\n",
       "      <td>P&amp;G's Pamela's Diner</td>\n",
       "      <td>Restaurants, Breakfast &amp; Brunch</td>\n",
       "      <td>{'Alcohol': 'none', 'Ambience': '{'romantic': ...</td>\n",
       "      <td>Pittsburgh</td>\n",
       "    </tr>\n",
       "    <tr>\n",
       "      <th>4</th>\n",
       "      <td>YO8sWa0wYChH6DQWnE6NFg</td>\n",
       "      <td>4</td>\n",
       "      <td>iRRjcenJiFkGO92I3RvW-A</td>\n",
       "      <td>Everything was great except the coffee. I had ...</td>\n",
       "      <td>P&amp;G's Pamela's Diner</td>\n",
       "      <td>Restaurants, Breakfast &amp; Brunch</td>\n",
       "      <td>{'Alcohol': 'none', 'Ambience': '{'romantic': ...</td>\n",
       "      <td>Pittsburgh</td>\n",
       "    </tr>\n",
       "  </tbody>\n",
       "</table>\n",
       "</div>"
      ],
      "text/plain": [
       "              business_id  stars                 user_id  \\\n",
       "0  YO8sWa0wYChH6DQWnE6NFg      4  djSJ6a9gsLSdj-7BoyNNQA   \n",
       "1  YO8sWa0wYChH6DQWnE6NFg      4  Tj58A0_D-WsD-UirmpYSEQ   \n",
       "2  YO8sWa0wYChH6DQWnE6NFg      1  lwCt_LgGAbPQpNRpaDR_Fg   \n",
       "3  YO8sWa0wYChH6DQWnE6NFg      3  Figs8mO8s_aPRq2W7W0cYQ   \n",
       "4  YO8sWa0wYChH6DQWnE6NFg      4  iRRjcenJiFkGO92I3RvW-A   \n",
       "\n",
       "                                                text                  name  \\\n",
       "0  You're not gonna find a much better breakfast ...  P&G's Pamela's Diner   \n",
       "1  It's true.  The pancakes here are incredible, ...  P&G's Pamela's Diner   \n",
       "2  Pamela's is not anything great (heavy and grea...  P&G's Pamela's Diner   \n",
       "3  I've been here a couple of times for brunch. I...  P&G's Pamela's Diner   \n",
       "4  Everything was great except the coffee. I had ...  P&G's Pamela's Diner   \n",
       "\n",
       "                        categories  \\\n",
       "0  Restaurants, Breakfast & Brunch   \n",
       "1  Restaurants, Breakfast & Brunch   \n",
       "2  Restaurants, Breakfast & Brunch   \n",
       "3  Restaurants, Breakfast & Brunch   \n",
       "4  Restaurants, Breakfast & Brunch   \n",
       "\n",
       "                                          attributes        city  \n",
       "0  {'Alcohol': 'none', 'Ambience': '{'romantic': ...  Pittsburgh  \n",
       "1  {'Alcohol': 'none', 'Ambience': '{'romantic': ...  Pittsburgh  \n",
       "2  {'Alcohol': 'none', 'Ambience': '{'romantic': ...  Pittsburgh  \n",
       "3  {'Alcohol': 'none', 'Ambience': '{'romantic': ...  Pittsburgh  \n",
       "4  {'Alcohol': 'none', 'Ambience': '{'romantic': ...  Pittsburgh  "
      ]
     },
     "execution_count": 26,
     "metadata": {},
     "output_type": "execute_result"
    }
   ],
   "source": [
    "df_review_p.head()"
   ]
  },
  {
   "cell_type": "markdown",
   "metadata": {},
   "source": [
    "### Export result to CSV"
   ]
  },
  {
   "cell_type": "code",
   "execution_count": 27,
   "metadata": {},
   "outputs": [],
   "source": [
    "df_review_p.to_csv('data/filtered_review.csv', index=False)"
   ]
  },
  {
   "cell_type": "code",
   "execution_count": 28,
   "metadata": {},
   "outputs": [],
   "source": [
    "# Try reload the csv file to check if everything works fine\n",
    "df_review_p_test = pd.read_csv('data/filtered_review.csv', encoding ='ISO-8859-1')"
   ]
  },
  {
   "cell_type": "code",
   "execution_count": 29,
   "metadata": {},
   "outputs": [
    {
     "data": {
      "text/html": [
       "<div>\n",
       "<style scoped>\n",
       "    .dataframe tbody tr th:only-of-type {\n",
       "        vertical-align: middle;\n",
       "    }\n",
       "\n",
       "    .dataframe tbody tr th {\n",
       "        vertical-align: top;\n",
       "    }\n",
       "\n",
       "    .dataframe thead th {\n",
       "        text-align: right;\n",
       "    }\n",
       "</style>\n",
       "<table border=\"1\" class=\"dataframe\">\n",
       "  <thead>\n",
       "    <tr style=\"text-align: right;\">\n",
       "      <th></th>\n",
       "      <th>business_id</th>\n",
       "      <th>stars</th>\n",
       "      <th>user_id</th>\n",
       "      <th>text</th>\n",
       "      <th>name</th>\n",
       "      <th>categories</th>\n",
       "      <th>attributes</th>\n",
       "      <th>city</th>\n",
       "    </tr>\n",
       "  </thead>\n",
       "  <tbody>\n",
       "    <tr>\n",
       "      <th>0</th>\n",
       "      <td>YO8sWa0wYChH6DQWnE6NFg</td>\n",
       "      <td>4</td>\n",
       "      <td>djSJ6a9gsLSdj-7BoyNNQA</td>\n",
       "      <td>You're not gonna find a much better breakfast ...</td>\n",
       "      <td>P&amp;G's Pamela's Diner</td>\n",
       "      <td>Restaurants, Breakfast &amp; Brunch</td>\n",
       "      <td>{'Alcohol': 'none', 'Ambience': \"{'romantic': ...</td>\n",
       "      <td>Pittsburgh</td>\n",
       "    </tr>\n",
       "    <tr>\n",
       "      <th>1</th>\n",
       "      <td>YO8sWa0wYChH6DQWnE6NFg</td>\n",
       "      <td>4</td>\n",
       "      <td>Tj58A0_D-WsD-UirmpYSEQ</td>\n",
       "      <td>It's true.  The pancakes here are incredible, ...</td>\n",
       "      <td>P&amp;G's Pamela's Diner</td>\n",
       "      <td>Restaurants, Breakfast &amp; Brunch</td>\n",
       "      <td>{'Alcohol': 'none', 'Ambience': \"{'romantic': ...</td>\n",
       "      <td>Pittsburgh</td>\n",
       "    </tr>\n",
       "    <tr>\n",
       "      <th>2</th>\n",
       "      <td>YO8sWa0wYChH6DQWnE6NFg</td>\n",
       "      <td>1</td>\n",
       "      <td>lwCt_LgGAbPQpNRpaDR_Fg</td>\n",
       "      <td>Pamela's is not anything great (heavy and grea...</td>\n",
       "      <td>P&amp;G's Pamela's Diner</td>\n",
       "      <td>Restaurants, Breakfast &amp; Brunch</td>\n",
       "      <td>{'Alcohol': 'none', 'Ambience': \"{'romantic': ...</td>\n",
       "      <td>Pittsburgh</td>\n",
       "    </tr>\n",
       "    <tr>\n",
       "      <th>3</th>\n",
       "      <td>YO8sWa0wYChH6DQWnE6NFg</td>\n",
       "      <td>3</td>\n",
       "      <td>Figs8mO8s_aPRq2W7W0cYQ</td>\n",
       "      <td>I've been here a couple of times for brunch. I...</td>\n",
       "      <td>P&amp;G's Pamela's Diner</td>\n",
       "      <td>Restaurants, Breakfast &amp; Brunch</td>\n",
       "      <td>{'Alcohol': 'none', 'Ambience': \"{'romantic': ...</td>\n",
       "      <td>Pittsburgh</td>\n",
       "    </tr>\n",
       "    <tr>\n",
       "      <th>4</th>\n",
       "      <td>YO8sWa0wYChH6DQWnE6NFg</td>\n",
       "      <td>4</td>\n",
       "      <td>iRRjcenJiFkGO92I3RvW-A</td>\n",
       "      <td>Everything was great except the coffee. I had ...</td>\n",
       "      <td>P&amp;G's Pamela's Diner</td>\n",
       "      <td>Restaurants, Breakfast &amp; Brunch</td>\n",
       "      <td>{'Alcohol': 'none', 'Ambience': \"{'romantic': ...</td>\n",
       "      <td>Pittsburgh</td>\n",
       "    </tr>\n",
       "  </tbody>\n",
       "</table>\n",
       "</div>"
      ],
      "text/plain": [
       "              business_id  stars                 user_id  \\\n",
       "0  YO8sWa0wYChH6DQWnE6NFg      4  djSJ6a9gsLSdj-7BoyNNQA   \n",
       "1  YO8sWa0wYChH6DQWnE6NFg      4  Tj58A0_D-WsD-UirmpYSEQ   \n",
       "2  YO8sWa0wYChH6DQWnE6NFg      1  lwCt_LgGAbPQpNRpaDR_Fg   \n",
       "3  YO8sWa0wYChH6DQWnE6NFg      3  Figs8mO8s_aPRq2W7W0cYQ   \n",
       "4  YO8sWa0wYChH6DQWnE6NFg      4  iRRjcenJiFkGO92I3RvW-A   \n",
       "\n",
       "                                                text                  name  \\\n",
       "0  You're not gonna find a much better breakfast ...  P&G's Pamela's Diner   \n",
       "1  It's true.  The pancakes here are incredible, ...  P&G's Pamela's Diner   \n",
       "2  Pamela's is not anything great (heavy and grea...  P&G's Pamela's Diner   \n",
       "3  I've been here a couple of times for brunch. I...  P&G's Pamela's Diner   \n",
       "4  Everything was great except the coffee. I had ...  P&G's Pamela's Diner   \n",
       "\n",
       "                        categories  \\\n",
       "0  Restaurants, Breakfast & Brunch   \n",
       "1  Restaurants, Breakfast & Brunch   \n",
       "2  Restaurants, Breakfast & Brunch   \n",
       "3  Restaurants, Breakfast & Brunch   \n",
       "4  Restaurants, Breakfast & Brunch   \n",
       "\n",
       "                                          attributes        city  \n",
       "0  {'Alcohol': 'none', 'Ambience': \"{'romantic': ...  Pittsburgh  \n",
       "1  {'Alcohol': 'none', 'Ambience': \"{'romantic': ...  Pittsburgh  \n",
       "2  {'Alcohol': 'none', 'Ambience': \"{'romantic': ...  Pittsburgh  \n",
       "3  {'Alcohol': 'none', 'Ambience': \"{'romantic': ...  Pittsburgh  \n",
       "4  {'Alcohol': 'none', 'Ambience': \"{'romantic': ...  Pittsburgh  "
      ]
     },
     "execution_count": 29,
     "metadata": {},
     "output_type": "execute_result"
    }
   ],
   "source": [
    "df_review_p_test.head()"
   ]
  },
  {
   "cell_type": "code",
   "execution_count": 30,
   "metadata": {},
   "outputs": [
    {
     "name": "stdout",
     "output_type": "stream",
     "text": [
      "<class 'pandas.core.frame.DataFrame'>\n",
      "RangeIndex: 51864 entries, 0 to 51863\n",
      "Data columns (total 8 columns):\n",
      "business_id    51864 non-null object\n",
      "stars          51864 non-null int64\n",
      "user_id        51864 non-null object\n",
      "text           51864 non-null object\n",
      "name           51864 non-null object\n",
      "categories     51864 non-null object\n",
      "attributes     51864 non-null object\n",
      "city           51864 non-null object\n",
      "dtypes: int64(1), object(7)\n",
      "memory usage: 3.2+ MB\n"
     ]
    }
   ],
   "source": [
    "df_review_p_test.info()"
   ]
  }
 ],
 "metadata": {
  "kernelspec": {
   "display_name": "Python 3",
   "language": "python",
   "name": "python3"
  },
  "language_info": {
   "codemirror_mode": {
    "name": "ipython",
    "version": 3
   },
   "file_extension": ".py",
   "mimetype": "text/x-python",
   "name": "python",
   "nbconvert_exporter": "python",
   "pygments_lexer": "ipython3",
   "version": "3.6.5"
  }
 },
 "nbformat": 4,
 "nbformat_minor": 2
}
