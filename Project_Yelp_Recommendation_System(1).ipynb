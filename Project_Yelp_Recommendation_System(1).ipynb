{
 "cells": [
  {
   "cell_type": "code",
   "execution_count": 1,
   "metadata": {},
   "outputs": [],
   "source": [
    "import pandas as pd\n",
    "import numpy as np\n",
    "import matplotlib.pyplot as plt\n",
    "import os\n",
    "import implicit"
   ]
  },
  {
   "cell_type": "markdown",
   "metadata": {},
   "source": [
    "truncated_business and truncated_review are json files that contains only business and reviews from Pittsburgh"
   ]
  },
  {
   "cell_type": "code",
   "execution_count": 2,
   "metadata": {},
   "outputs": [],
   "source": [
    "basePath = os.path.dirname(os.path.abspath('truncated_business.json'))\n",
    "businessURL = 'truncated_business.json'\n",
    "business = pd.read_json(businessURL, orient='records', lines=True)\n",
    "business = business.drop(columns=['city', 'hours', 'latitude', 'longitude', 'state'])\n",
    "\n",
    "reviewURL = basePath + '/truncated_review_stars.json'\n",
    "review = pd.read_json(reviewURL, orient='records', lines=True)\n"
   ]
  },
  {
   "cell_type": "code",
   "execution_count": 3,
   "metadata": {},
   "outputs": [
    {
     "data": {
      "text/html": [
       "<div>\n",
       "<style scoped>\n",
       "    .dataframe tbody tr th:only-of-type {\n",
       "        vertical-align: middle;\n",
       "    }\n",
       "\n",
       "    .dataframe tbody tr th {\n",
       "        vertical-align: top;\n",
       "    }\n",
       "\n",
       "    .dataframe thead th {\n",
       "        text-align: right;\n",
       "    }\n",
       "</style>\n",
       "<table border=\"1\" class=\"dataframe\">\n",
       "  <thead>\n",
       "    <tr style=\"text-align: right;\">\n",
       "      <th></th>\n",
       "      <th>address</th>\n",
       "      <th>attributes</th>\n",
       "      <th>business_id</th>\n",
       "      <th>categories</th>\n",
       "      <th>is_open</th>\n",
       "      <th>name</th>\n",
       "      <th>neighborhood</th>\n",
       "      <th>postal_code</th>\n",
       "      <th>review_count</th>\n",
       "      <th>stars</th>\n",
       "    </tr>\n",
       "  </thead>\n",
       "  <tbody>\n",
       "    <tr>\n",
       "      <th>0</th>\n",
       "      <td>209 Oakland Ave</td>\n",
       "      <td>{'BikeParking': 'True', 'BusinessAcceptsCredit...</td>\n",
       "      <td>UTm5QZThPQlT35mkAcGOjg</td>\n",
       "      <td>Flowers &amp; Gifts, Gift Shops, Shopping</td>\n",
       "      <td>1</td>\n",
       "      <td>Maggie &amp; Stella's Gifts</td>\n",
       "      <td>Oakland</td>\n",
       "      <td>15213</td>\n",
       "      <td>3</td>\n",
       "      <td>3.5</td>\n",
       "    </tr>\n",
       "    <tr>\n",
       "      <th>1</th>\n",
       "      <td>531 Clairton Blvd, Unit 7</td>\n",
       "      <td>{'BikeParking': 'False', 'BusinessAcceptsBitco...</td>\n",
       "      <td>UmZnFzo-NK2daxkl3_Rieg</td>\n",
       "      <td>Hair Salons, Beauty &amp; Spas</td>\n",
       "      <td>1</td>\n",
       "      <td>Philip Pelusi</td>\n",
       "      <td></td>\n",
       "      <td>15236</td>\n",
       "      <td>5</td>\n",
       "      <td>4.5</td>\n",
       "    </tr>\n",
       "    <tr>\n",
       "      <th>2</th>\n",
       "      <td>1720 Washington Rd</td>\n",
       "      <td>{'BusinessAcceptsCreditCards': 'True'}</td>\n",
       "      <td>3JhKtHSmvwzGBysraUVMDg</td>\n",
       "      <td>Professional Services, Local Services, Shippin...</td>\n",
       "      <td>1</td>\n",
       "      <td>FedEx Office Print &amp; Ship Center</td>\n",
       "      <td></td>\n",
       "      <td>15241</td>\n",
       "      <td>5</td>\n",
       "      <td>3.5</td>\n",
       "    </tr>\n",
       "    <tr>\n",
       "      <th>3</th>\n",
       "      <td>5440 Walnut St</td>\n",
       "      <td>{'Alcohol': 'full_bar', 'Ambience': '{'romanti...</td>\n",
       "      <td>f2FfutZhb4F-m1Ob0EdYaw</td>\n",
       "      <td>Asian Fusion, Caterers, Fast Food, Chinese, Re...</td>\n",
       "      <td>1</td>\n",
       "      <td>China Palace</td>\n",
       "      <td>Shadyside</td>\n",
       "      <td>15232</td>\n",
       "      <td>110</td>\n",
       "      <td>3.0</td>\n",
       "    </tr>\n",
       "    <tr>\n",
       "      <th>4</th>\n",
       "      <td>4635 Centre Ave</td>\n",
       "      <td>{'Ambience': '{'romantic': False, 'intimate': ...</td>\n",
       "      <td>qfcdMhm1Ff28JHVpHca20g</td>\n",
       "      <td>Pizza, Restaurants</td>\n",
       "      <td>1</td>\n",
       "      <td>Pizza Bellagio</td>\n",
       "      <td>Oakland</td>\n",
       "      <td>15213</td>\n",
       "      <td>18</td>\n",
       "      <td>1.5</td>\n",
       "    </tr>\n",
       "  </tbody>\n",
       "</table>\n",
       "</div>"
      ],
      "text/plain": [
       "                     address  \\\n",
       "0            209 Oakland Ave   \n",
       "1  531 Clairton Blvd, Unit 7   \n",
       "2         1720 Washington Rd   \n",
       "3             5440 Walnut St   \n",
       "4            4635 Centre Ave   \n",
       "\n",
       "                                          attributes             business_id  \\\n",
       "0  {'BikeParking': 'True', 'BusinessAcceptsCredit...  UTm5QZThPQlT35mkAcGOjg   \n",
       "1  {'BikeParking': 'False', 'BusinessAcceptsBitco...  UmZnFzo-NK2daxkl3_Rieg   \n",
       "2             {'BusinessAcceptsCreditCards': 'True'}  3JhKtHSmvwzGBysraUVMDg   \n",
       "3  {'Alcohol': 'full_bar', 'Ambience': '{'romanti...  f2FfutZhb4F-m1Ob0EdYaw   \n",
       "4  {'Ambience': '{'romantic': False, 'intimate': ...  qfcdMhm1Ff28JHVpHca20g   \n",
       "\n",
       "                                          categories  is_open  \\\n",
       "0              Flowers & Gifts, Gift Shops, Shopping        1   \n",
       "1                         Hair Salons, Beauty & Spas        1   \n",
       "2  Professional Services, Local Services, Shippin...        1   \n",
       "3  Asian Fusion, Caterers, Fast Food, Chinese, Re...        1   \n",
       "4                                 Pizza, Restaurants        1   \n",
       "\n",
       "                               name neighborhood postal_code  review_count  \\\n",
       "0           Maggie & Stella's Gifts      Oakland       15213             3   \n",
       "1                     Philip Pelusi                    15236             5   \n",
       "2  FedEx Office Print & Ship Center                    15241             5   \n",
       "3                      China Palace    Shadyside       15232           110   \n",
       "4                    Pizza Bellagio      Oakland       15213            18   \n",
       "\n",
       "   stars  \n",
       "0    3.5  \n",
       "1    4.5  \n",
       "2    3.5  \n",
       "3    3.0  \n",
       "4    1.5  "
      ]
     },
     "execution_count": 3,
     "metadata": {},
     "output_type": "execute_result"
    }
   ],
   "source": [
    "business.head()"
   ]
  },
  {
   "cell_type": "code",
   "execution_count": 4,
   "metadata": {
    "scrolled": true
   },
   "outputs": [
    {
     "data": {
      "text/html": [
       "<div>\n",
       "<style scoped>\n",
       "    .dataframe tbody tr th:only-of-type {\n",
       "        vertical-align: middle;\n",
       "    }\n",
       "\n",
       "    .dataframe tbody tr th {\n",
       "        vertical-align: top;\n",
       "    }\n",
       "\n",
       "    .dataframe thead th {\n",
       "        text-align: right;\n",
       "    }\n",
       "</style>\n",
       "<table border=\"1\" class=\"dataframe\">\n",
       "  <thead>\n",
       "    <tr style=\"text-align: right;\">\n",
       "      <th></th>\n",
       "      <th>business_id</th>\n",
       "      <th>review_id</th>\n",
       "      <th>stars</th>\n",
       "      <th>user_id</th>\n",
       "    </tr>\n",
       "  </thead>\n",
       "  <tbody>\n",
       "    <tr>\n",
       "      <th>0</th>\n",
       "      <td>yFumR3CWzpfvTH2FCthvVw</td>\n",
       "      <td>STiFMww2z31siPY7BWNC2g</td>\n",
       "      <td>5</td>\n",
       "      <td>TlvV-xJhmh7LCwJYXkV-cg</td>\n",
       "    </tr>\n",
       "    <tr>\n",
       "      <th>1</th>\n",
       "      <td>XqNDr54eLDLRfZwo4l4dVA</td>\n",
       "      <td>5um5SX-Lbgik5dwUGe2jFw</td>\n",
       "      <td>4</td>\n",
       "      <td>eG6HneK9zLcuZpVuKcsCGQ</td>\n",
       "    </tr>\n",
       "    <tr>\n",
       "      <th>2</th>\n",
       "      <td>0bjFYstj8USMzEV4ZQldjA</td>\n",
       "      <td>VKGvSe0SmYcFc5PqjbxLDQ</td>\n",
       "      <td>5</td>\n",
       "      <td>eG6HneK9zLcuZpVuKcsCGQ</td>\n",
       "    </tr>\n",
       "    <tr>\n",
       "      <th>3</th>\n",
       "      <td>q0n4I-zqiI47xispOqc1lA</td>\n",
       "      <td>M9gD64U797dfIpLA9OHYVA</td>\n",
       "      <td>5</td>\n",
       "      <td>eG6HneK9zLcuZpVuKcsCGQ</td>\n",
       "    </tr>\n",
       "    <tr>\n",
       "      <th>4</th>\n",
       "      <td>alG1fb1kl2vmT8s34jbbHg</td>\n",
       "      <td>eShfPWENUmZ9sP7fstPt7Q</td>\n",
       "      <td>5</td>\n",
       "      <td>eG6HneK9zLcuZpVuKcsCGQ</td>\n",
       "    </tr>\n",
       "    <tr>\n",
       "      <th>5</th>\n",
       "      <td>PyTHy9VPOhBCiGLsi-PA2Q</td>\n",
       "      <td>yff_3vVG6FxquxmH4V04Hg</td>\n",
       "      <td>3</td>\n",
       "      <td>AlzerMK7z84E4KU6GjPzIQ</td>\n",
       "    </tr>\n",
       "    <tr>\n",
       "      <th>6</th>\n",
       "      <td>zzwhN7x37nyjP0ZM8oiHmw</td>\n",
       "      <td>5KM9SvL6Tii_C2QvWQ64hQ</td>\n",
       "      <td>4</td>\n",
       "      <td>AlzerMK7z84E4KU6GjPzIQ</td>\n",
       "    </tr>\n",
       "    <tr>\n",
       "      <th>7</th>\n",
       "      <td>Ul6JwluSTm12PVDIqnNaTg</td>\n",
       "      <td>F3vb0OGmKwWW8ohaZarSbg</td>\n",
       "      <td>4</td>\n",
       "      <td>AlzerMK7z84E4KU6GjPzIQ</td>\n",
       "    </tr>\n",
       "    <tr>\n",
       "      <th>8</th>\n",
       "      <td>L95ppCbcWAt4LUWrCiEvPg</td>\n",
       "      <td>nyahh6-LJ1fiskNTwxcFsQ</td>\n",
       "      <td>4</td>\n",
       "      <td>AlzerMK7z84E4KU6GjPzIQ</td>\n",
       "    </tr>\n",
       "    <tr>\n",
       "      <th>9</th>\n",
       "      <td>v50-nvBCZNf7nCNbyUlQLw</td>\n",
       "      <td>zJd6NFUk7ARsWApBUzXqVQ</td>\n",
       "      <td>1</td>\n",
       "      <td>AlzerMK7z84E4KU6GjPzIQ</td>\n",
       "    </tr>\n",
       "  </tbody>\n",
       "</table>\n",
       "</div>"
      ],
      "text/plain": [
       "              business_id               review_id  stars  \\\n",
       "0  yFumR3CWzpfvTH2FCthvVw  STiFMww2z31siPY7BWNC2g      5   \n",
       "1  XqNDr54eLDLRfZwo4l4dVA  5um5SX-Lbgik5dwUGe2jFw      4   \n",
       "2  0bjFYstj8USMzEV4ZQldjA  VKGvSe0SmYcFc5PqjbxLDQ      5   \n",
       "3  q0n4I-zqiI47xispOqc1lA  M9gD64U797dfIpLA9OHYVA      5   \n",
       "4  alG1fb1kl2vmT8s34jbbHg  eShfPWENUmZ9sP7fstPt7Q      5   \n",
       "5  PyTHy9VPOhBCiGLsi-PA2Q  yff_3vVG6FxquxmH4V04Hg      3   \n",
       "6  zzwhN7x37nyjP0ZM8oiHmw  5KM9SvL6Tii_C2QvWQ64hQ      4   \n",
       "7  Ul6JwluSTm12PVDIqnNaTg  F3vb0OGmKwWW8ohaZarSbg      4   \n",
       "8  L95ppCbcWAt4LUWrCiEvPg  nyahh6-LJ1fiskNTwxcFsQ      4   \n",
       "9  v50-nvBCZNf7nCNbyUlQLw  zJd6NFUk7ARsWApBUzXqVQ      1   \n",
       "\n",
       "                  user_id  \n",
       "0  TlvV-xJhmh7LCwJYXkV-cg  \n",
       "1  eG6HneK9zLcuZpVuKcsCGQ  \n",
       "2  eG6HneK9zLcuZpVuKcsCGQ  \n",
       "3  eG6HneK9zLcuZpVuKcsCGQ  \n",
       "4  eG6HneK9zLcuZpVuKcsCGQ  \n",
       "5  AlzerMK7z84E4KU6GjPzIQ  \n",
       "6  AlzerMK7z84E4KU6GjPzIQ  \n",
       "7  AlzerMK7z84E4KU6GjPzIQ  \n",
       "8  AlzerMK7z84E4KU6GjPzIQ  \n",
       "9  AlzerMK7z84E4KU6GjPzIQ  "
      ]
     },
     "execution_count": 4,
     "metadata": {},
     "output_type": "execute_result"
    }
   ],
   "source": [
    "review.head(10)"
   ]
  },
  {
   "cell_type": "code",
   "execution_count": 5,
   "metadata": {
    "scrolled": false
   },
   "outputs": [
    {
     "data": {
      "image/png": "[encoded data removed]",
      "text/plain": [
       "<Figure size 432x288 with 1 Axes>"
      ]
     },
     "metadata": {
      "needs_background": "light"
     },
     "output_type": "display_data"
    }
   ],
   "source": [
    "business['review_count'].apply(np.log).hist()\n",
    "plt.show()"
   ]
  },
  {
   "cell_type": "code",
   "execution_count": 6,
   "metadata": {
    "scrolled": true
   },
   "outputs": [
    {
     "data": {
      "text/plain": [
       "address         6804\n",
       "attributes      5980\n",
       "business_id     6804\n",
       "categories      6790\n",
       "is_open         6804\n",
       "name            6804\n",
       "neighborhood    6804\n",
       "postal_code     6804\n",
       "review_count    6804\n",
       "stars           6804\n",
       "dtype: int64"
      ]
     },
     "execution_count": 6,
     "metadata": {},
     "output_type": "execute_result"
    }
   ],
   "source": [
    "business_num = business.count()\n",
    "business_num"
   ]
  },
  {
   "cell_type": "code",
   "execution_count": 7,
   "metadata": {},
   "outputs": [],
   "source": [
    "business = business[business.review_count > 10]"
   ]
  },
  {
   "cell_type": "code",
   "execution_count": 8,
   "metadata": {},
   "outputs": [
    {
     "data": {
      "text/plain": [
       "address         3006\n",
       "attributes      2886\n",
       "business_id     3006\n",
       "categories      3006\n",
       "is_open         3006\n",
       "name            3006\n",
       "neighborhood    3006\n",
       "postal_code     3006\n",
       "review_count    3006\n",
       "stars           3006\n",
       "dtype: int64"
      ]
     },
     "execution_count": 8,
     "metadata": {},
     "output_type": "execute_result"
    }
   ],
   "source": [
    "business.count()"
   ]
  },
  {
   "cell_type": "code",
   "execution_count": 9,
   "metadata": {},
   "outputs": [],
   "source": [
    "business = business.reset_index()"
   ]
  },
  {
   "cell_type": "code",
   "execution_count": 10,
   "metadata": {},
   "outputs": [
    {
     "data": {
      "text/html": [
       "<div>\n",
       "<style scoped>\n",
       "    .dataframe tbody tr th:only-of-type {\n",
       "        vertical-align: middle;\n",
       "    }\n",
       "\n",
       "    .dataframe tbody tr th {\n",
       "        vertical-align: top;\n",
       "    }\n",
       "\n",
       "    .dataframe thead th {\n",
       "        text-align: right;\n",
       "    }\n",
       "</style>\n",
       "<table border=\"1\" class=\"dataframe\">\n",
       "  <thead>\n",
       "    <tr style=\"text-align: right;\">\n",
       "      <th></th>\n",
       "      <th>index</th>\n",
       "      <th>address</th>\n",
       "      <th>attributes</th>\n",
       "      <th>business_id</th>\n",
       "      <th>categories</th>\n",
       "      <th>is_open</th>\n",
       "      <th>name</th>\n",
       "      <th>neighborhood</th>\n",
       "      <th>postal_code</th>\n",
       "      <th>review_count</th>\n",
       "      <th>stars</th>\n",
       "    </tr>\n",
       "  </thead>\n",
       "  <tbody>\n",
       "    <tr>\n",
       "      <th>0</th>\n",
       "      <td>3</td>\n",
       "      <td>5440 Walnut St</td>\n",
       "      <td>{'Alcohol': 'full_bar', 'Ambience': '{'romanti...</td>\n",
       "      <td>f2FfutZhb4F-m1Ob0EdYaw</td>\n",
       "      <td>Asian Fusion, Caterers, Fast Food, Chinese, Re...</td>\n",
       "      <td>1</td>\n",
       "      <td>China Palace</td>\n",
       "      <td>Shadyside</td>\n",
       "      <td>15232</td>\n",
       "      <td>110</td>\n",
       "      <td>3.0</td>\n",
       "    </tr>\n",
       "    <tr>\n",
       "      <th>1</th>\n",
       "      <td>4</td>\n",
       "      <td>4635 Centre Ave</td>\n",
       "      <td>{'Ambience': '{'romantic': False, 'intimate': ...</td>\n",
       "      <td>qfcdMhm1Ff28JHVpHca20g</td>\n",
       "      <td>Pizza, Restaurants</td>\n",
       "      <td>1</td>\n",
       "      <td>Pizza Bellagio</td>\n",
       "      <td>Oakland</td>\n",
       "      <td>15213</td>\n",
       "      <td>18</td>\n",
       "      <td>1.5</td>\n",
       "    </tr>\n",
       "    <tr>\n",
       "      <th>2</th>\n",
       "      <td>5</td>\n",
       "      <td>5104 Butler St</td>\n",
       "      <td>{'BikeParking': 'False', 'BusinessAcceptsCredi...</td>\n",
       "      <td>-yuNBcDIoOzCcS4GWU_o1A</td>\n",
       "      <td>Beauty &amp; Spas, Shopping, Specialty Schools, Ed...</td>\n",
       "      <td>1</td>\n",
       "      <td>The Gilded Girl</td>\n",
       "      <td>Lawrenceville</td>\n",
       "      <td>15201</td>\n",
       "      <td>11</td>\n",
       "      <td>4.5</td>\n",
       "    </tr>\n",
       "    <tr>\n",
       "      <th>3</th>\n",
       "      <td>6</td>\n",
       "      <td>4900 Hatfield St</td>\n",
       "      <td>{'BikeParking': 'True', 'BusinessAcceptsBitcoi...</td>\n",
       "      <td>zyaRXoJkyNd_RPPtGrmMlA</td>\n",
       "      <td>Beauty &amp; Spas, Hair Salons</td>\n",
       "      <td>1</td>\n",
       "      <td>Evolve Modern Hairdressing</td>\n",
       "      <td>Lawrenceville</td>\n",
       "      <td>15201</td>\n",
       "      <td>13</td>\n",
       "      <td>4.0</td>\n",
       "    </tr>\n",
       "    <tr>\n",
       "      <th>4</th>\n",
       "      <td>8</td>\n",
       "      <td>1931 E Carson St</td>\n",
       "      <td>{'BusinessAcceptsCreditCards': 'True'}</td>\n",
       "      <td>4C9m63Xk7QVCk5ykJIPkjQ</td>\n",
       "      <td>Local Services, Screen Printing</td>\n",
       "      <td>1</td>\n",
       "      <td>Commonwealth Press</td>\n",
       "      <td>South Side</td>\n",
       "      <td>15203</td>\n",
       "      <td>15</td>\n",
       "      <td>4.5</td>\n",
       "    </tr>\n",
       "  </tbody>\n",
       "</table>\n",
       "</div>"
      ],
      "text/plain": [
       "   index           address                                         attributes  \\\n",
       "0      3    5440 Walnut St  {'Alcohol': 'full_bar', 'Ambience': '{'romanti...   \n",
       "1      4   4635 Centre Ave  {'Ambience': '{'romantic': False, 'intimate': ...   \n",
       "2      5    5104 Butler St  {'BikeParking': 'False', 'BusinessAcceptsCredi...   \n",
       "3      6  4900 Hatfield St  {'BikeParking': 'True', 'BusinessAcceptsBitcoi...   \n",
       "4      8  1931 E Carson St             {'BusinessAcceptsCreditCards': 'True'}   \n",
       "\n",
       "              business_id                                         categories  \\\n",
       "0  f2FfutZhb4F-m1Ob0EdYaw  Asian Fusion, Caterers, Fast Food, Chinese, Re...   \n",
       "1  qfcdMhm1Ff28JHVpHca20g                                 Pizza, Restaurants   \n",
       "2  -yuNBcDIoOzCcS4GWU_o1A  Beauty & Spas, Shopping, Specialty Schools, Ed...   \n",
       "3  zyaRXoJkyNd_RPPtGrmMlA                         Beauty & Spas, Hair Salons   \n",
       "4  4C9m63Xk7QVCk5ykJIPkjQ                    Local Services, Screen Printing   \n",
       "\n",
       "   is_open                        name   neighborhood postal_code  \\\n",
       "0        1                China Palace      Shadyside       15232   \n",
       "1        1              Pizza Bellagio        Oakland       15213   \n",
       "2        1             The Gilded Girl  Lawrenceville       15201   \n",
       "3        1  Evolve Modern Hairdressing  Lawrenceville       15201   \n",
       "4        1          Commonwealth Press     South Side       15203   \n",
       "\n",
       "   review_count  stars  \n",
       "0           110    3.0  \n",
       "1            18    1.5  \n",
       "2            11    4.5  \n",
       "3            13    4.0  \n",
       "4            15    4.5  "
      ]
     },
     "execution_count": 10,
     "metadata": {},
     "output_type": "execute_result"
    }
   ],
   "source": [
    "business.head()"
   ]
  },
  {
   "cell_type": "code",
   "execution_count": 11,
   "metadata": {},
   "outputs": [
    {
     "data": {
      "text/plain": [
       "62799"
      ]
     },
     "execution_count": 11,
     "metadata": {},
     "output_type": "execute_result"
    }
   ],
   "source": [
    "#user number\n",
    "user_num = review['user_id'].nunique()\n",
    "user_num"
   ]
  },
  {
   "cell_type": "code",
   "execution_count": 12,
   "metadata": {
    "scrolled": true
   },
   "outputs": [
    {
     "data": {
      "image/png": "[encoded data removed]",
      "text/plain": [
       "<Figure size 432x288 with 1 Axes>"
      ]
     },
     "metadata": {
      "needs_background": "light"
     },
     "output_type": "display_data"
    }
   ],
   "source": [
    "user_review_num = review['user_id'].value_counts()\n",
    "user_review_num.apply(np.log).hist()\n",
    "plt.show()"
   ]
  },
  {
   "cell_type": "code",
   "execution_count": 13,
   "metadata": {},
   "outputs": [],
   "source": [
    "users = user_review_num[user_review_num > 20]"
   ]
  },
  {
   "cell_type": "code",
   "execution_count": 14,
   "metadata": {},
   "outputs": [
    {
     "data": {
      "text/plain": [
       "1224"
      ]
     },
     "execution_count": 14,
     "metadata": {},
     "output_type": "execute_result"
    }
   ],
   "source": [
    "users.count()"
   ]
  },
  {
   "cell_type": "markdown",
   "metadata": {},
   "source": [
    "### So we only recommend business for these 1224 users , whose user_review_num > 20, on 3006 businesses, which received more than 10 comments"
   ]
  },
  {
   "cell_type": "code",
   "execution_count": 15,
   "metadata": {},
   "outputs": [
    {
     "data": {
      "text/plain": [
       "business_id    201660\n",
       "review_id      201660\n",
       "stars          201660\n",
       "user_id        201660\n",
       "dtype: int64"
      ]
     },
     "execution_count": 15,
     "metadata": {},
     "output_type": "execute_result"
    }
   ],
   "source": [
    "review.count()"
   ]
  },
  {
   "cell_type": "code",
   "execution_count": 16,
   "metadata": {},
   "outputs": [],
   "source": [
    "review = review[review.user_id.isin(users.index.tolist()) & review.business_id.isin(business.business_id.tolist())]"
   ]
  },
  {
   "cell_type": "code",
   "execution_count": 17,
   "metadata": {
    "scrolled": true
   },
   "outputs": [
    {
     "data": {
      "text/plain": [
       "business_id    58313\n",
       "review_id      58313\n",
       "stars          58313\n",
       "user_id        58313\n",
       "dtype: int64"
      ]
     },
     "execution_count": 17,
     "metadata": {},
     "output_type": "execute_result"
    }
   ],
   "source": [
    "review.count()"
   ]
  },
  {
   "cell_type": "code",
   "execution_count": 18,
   "metadata": {},
   "outputs": [],
   "source": [
    "review = review.reset_index()"
   ]
  },
  {
   "cell_type": "code",
   "execution_count": 19,
   "metadata": {},
   "outputs": [
    {
     "data": {
      "text/html": [
       "<div>\n",
       "<style scoped>\n",
       "    .dataframe tbody tr th:only-of-type {\n",
       "        vertical-align: middle;\n",
       "    }\n",
       "\n",
       "    .dataframe tbody tr th {\n",
       "        vertical-align: top;\n",
       "    }\n",
       "\n",
       "    .dataframe thead th {\n",
       "        text-align: right;\n",
       "    }\n",
       "</style>\n",
       "<table border=\"1\" class=\"dataframe\">\n",
       "  <thead>\n",
       "    <tr style=\"text-align: right;\">\n",
       "      <th></th>\n",
       "      <th>index</th>\n",
       "      <th>business_id</th>\n",
       "      <th>review_id</th>\n",
       "      <th>stars</th>\n",
       "      <th>user_id</th>\n",
       "    </tr>\n",
       "  </thead>\n",
       "  <tbody>\n",
       "    <tr>\n",
       "      <th>0</th>\n",
       "      <td>232</td>\n",
       "      <td>1dhPgc7E7IzzpxjHM2LphQ</td>\n",
       "      <td>tILjLjnjENEmcT6LL_WvwQ</td>\n",
       "      <td>3</td>\n",
       "      <td>2dTQmS9iUhzdvhSElbkOOQ</td>\n",
       "    </tr>\n",
       "    <tr>\n",
       "      <th>1</th>\n",
       "      <td>233</td>\n",
       "      <td>3GuqcEYaF1d1WXcwOX5xPw</td>\n",
       "      <td>8-_TgK0o4-hXMiipbZz2tw</td>\n",
       "      <td>3</td>\n",
       "      <td>2dTQmS9iUhzdvhSElbkOOQ</td>\n",
       "    </tr>\n",
       "    <tr>\n",
       "      <th>2</th>\n",
       "      <td>234</td>\n",
       "      <td>OTSQq4ycH4NNhWIHcjnGaw</td>\n",
       "      <td>BDWk0O0DkBvGquOeOR0bJQ</td>\n",
       "      <td>2</td>\n",
       "      <td>2dTQmS9iUhzdvhSElbkOOQ</td>\n",
       "    </tr>\n",
       "    <tr>\n",
       "      <th>3</th>\n",
       "      <td>235</td>\n",
       "      <td>oeW0vIYd3rUnAPgmD4fEFg</td>\n",
       "      <td>9GNUIb2i8x7WugYg8G94sg</td>\n",
       "      <td>2</td>\n",
       "      <td>2dTQmS9iUhzdvhSElbkOOQ</td>\n",
       "    </tr>\n",
       "    <tr>\n",
       "      <th>4</th>\n",
       "      <td>236</td>\n",
       "      <td>cbddL2q8uRA38RwycB0FJg</td>\n",
       "      <td>8U8v5EdUcOUIM8zISpNuZw</td>\n",
       "      <td>4</td>\n",
       "      <td>2dTQmS9iUhzdvhSElbkOOQ</td>\n",
       "    </tr>\n",
       "  </tbody>\n",
       "</table>\n",
       "</div>"
      ],
      "text/plain": [
       "   index             business_id               review_id  stars  \\\n",
       "0    232  1dhPgc7E7IzzpxjHM2LphQ  tILjLjnjENEmcT6LL_WvwQ      3   \n",
       "1    233  3GuqcEYaF1d1WXcwOX5xPw  8-_TgK0o4-hXMiipbZz2tw      3   \n",
       "2    234  OTSQq4ycH4NNhWIHcjnGaw  BDWk0O0DkBvGquOeOR0bJQ      2   \n",
       "3    235  oeW0vIYd3rUnAPgmD4fEFg  9GNUIb2i8x7WugYg8G94sg      2   \n",
       "4    236  cbddL2q8uRA38RwycB0FJg  8U8v5EdUcOUIM8zISpNuZw      4   \n",
       "\n",
       "                  user_id  \n",
       "0  2dTQmS9iUhzdvhSElbkOOQ  \n",
       "1  2dTQmS9iUhzdvhSElbkOOQ  \n",
       "2  2dTQmS9iUhzdvhSElbkOOQ  \n",
       "3  2dTQmS9iUhzdvhSElbkOOQ  \n",
       "4  2dTQmS9iUhzdvhSElbkOOQ  "
      ]
     },
     "execution_count": 19,
     "metadata": {},
     "output_type": "execute_result"
    }
   ],
   "source": [
    "review.head(5)"
   ]
  },
  {
   "cell_type": "code",
   "execution_count": 20,
   "metadata": {},
   "outputs": [],
   "source": [
    "matrix = pd.DataFrame(data=None, index=users.index.tolist(), columns=business['business_id'].tolist(), dtype=np.int8)"
   ]
  },
  {
   "cell_type": "code",
   "execution_count": 21,
   "metadata": {},
   "outputs": [
    {
     "name": "stdout",
     "output_type": "stream",
     "text": [
      "1224\n",
      "3006\n"
     ]
    }
   ],
   "source": [
    "print(len(matrix.values))\n",
    "print(len(matrix.values[0]))"
   ]
  },
  {
   "cell_type": "code",
   "execution_count": 22,
   "metadata": {
    "scrolled": false
   },
   "outputs": [
    {
     "name": "stdout",
     "output_type": "stream",
     "text": [
      "1544342180.7540102\n",
      "1544342199.0559008\n"
     ]
    }
   ],
   "source": [
    "import time\n",
    "print(time.time())\n",
    "for index, row in review.iterrows():\n",
    "    matrix.loc[row['user_id'], row['business_id']] = row['stars']\n",
    "print(time.time())\n"
   ]
  },
  {
   "cell_type": "code",
   "execution_count": 23,
   "metadata": {},
   "outputs": [
    {
     "name": "stdout",
     "output_type": "stream",
     "text": [
      "1224\n",
      "3006\n"
     ]
    }
   ],
   "source": [
    "print(len(matrix.values))\n",
    "print(len(matrix.values[0]))"
   ]
  },
  {
   "cell_type": "code",
   "execution_count": 24,
   "metadata": {
    "scrolled": true
   },
   "outputs": [],
   "source": [
    "matrix = matrix.fillna(0)"
   ]
  },
  {
   "cell_type": "markdown",
   "metadata": {},
   "source": [
    "## Item-based Collaborative Filtering\n",
    "based on Adjusted Cosine Similarity"
   ]
  },
  {
   "cell_type": "code",
   "execution_count": 25,
   "metadata": {},
   "outputs": [],
   "source": [
    "m = matrix.values"
   ]
  },
  {
   "cell_type": "code",
   "execution_count": 26,
   "metadata": {},
   "outputs": [],
   "source": [
    "m_mean = m.mean(axis = 1)"
   ]
  },
  {
   "cell_type": "code",
   "execution_count": 27,
   "metadata": {},
   "outputs": [],
   "source": [
    "from scipy.spatial.distance import cosine\n",
    "from scipy.spatial.distance import pdist, squareform\n",
    "item_mean_subtracted = m - m_mean[:, None]\n",
    "similarity_matrix = 1 - squareform(pdist(item_mean_subtracted.T, 'cosine'))"
   ]
  },
  {
   "cell_type": "code",
   "execution_count": 45,
   "metadata": {},
   "outputs": [],
   "source": [
    "def cal_item_based_score(ratings, sim_matrix):\n",
    "    scores = []\n",
    "    for i in range(len(business)):\n",
    "        score = sum (ratings * sim_matrix[i]) / sum(ratings)\n",
    "        if len(scores) > 10:\n",
    "            top = heapq.heappop(scores)\n",
    "            if score > top[1]:\n",
    "                heapq.heappush(scores, (i, score))\n",
    "            else:\n",
    "                heapq.heappush(scores, top)\n",
    "        else:\n",
    "            scores.append((i, score))\n",
    "    return scores"
   ]
  },
  {
   "cell_type": "code",
   "execution_count": 47,
   "metadata": {},
   "outputs": [],
   "source": [
    "user_id = 20\n",
    "item_based_scores = cal_item_based_score(m[user_id], similarity_matrix)\n",
    "result = []\n",
    "for i in range(10):\n",
    "    index = heapq.heappop(item_based_scores)[0]\n",
    "    result.insert(0, business.loc[index, 'name'])"
   ]
  },
  {
   "cell_type": "code",
   "execution_count": 49,
   "metadata": {},
   "outputs": [
    {
     "data": {
      "text/plain": [
       "[\"Trader Joe's\",\n",
       " 'Pleasure Bar and Restaurant',\n",
       " 'Carnegie Library of Pittsburgh, Main Library',\n",
       " 'Schenley Plaza',\n",
       " 'Senator John Heinz History Center',\n",
       " 'Phipps Conservatory and Botanical Gardens',\n",
       " 'McCauley Celin Eyecare Associates',\n",
       " 'Fuel & Fuddle',\n",
       " 'Ross Park Mall',\n",
       " \"Prantl's Bakery\"]"
      ]
     },
     "execution_count": 49,
     "metadata": {},
     "output_type": "execute_result"
    }
   ],
   "source": [
    "result"
   ]
  },
  {
   "cell_type": "markdown",
   "metadata": {},
   "source": [
    "Then we can use the result to get the recommendation results in decreasing order of similarity"
   ]
  },
  {
   "cell_type": "markdown",
   "metadata": {},
   "source": [
    "## User-based Collaborative Filtering\n",
    "based on k nearest Neighbor algorithm (KNN)"
   ]
  },
  {
   "cell_type": "code",
   "execution_count": 30,
   "metadata": {},
   "outputs": [
    {
     "data": {
      "text/plain": [
       "NearestNeighbors(algorithm='brute', leaf_size=30, metric='cosine',\n",
       "         metric_params=None, n_jobs=1, n_neighbors=10, p=2, radius=1.0)"
      ]
     },
     "execution_count": 30,
     "metadata": {},
     "output_type": "execute_result"
    }
   ],
   "source": [
    "from sklearn.neighbors import NearestNeighbors\n",
    "# def calSimilarities(userid, matrix)\n",
    "neighbors = NearestNeighbors(n_neighbors=10, metric='cosine', algorithm='brute')\n",
    "neighbors.fit(m)"
   ]
  },
  {
   "cell_type": "code",
   "execution_count": 31,
   "metadata": {
    "scrolled": true
   },
   "outputs": [
    {
     "name": "stdout",
     "output_type": "stream",
     "text": [
      "[[0.         0.5788593  0.70164262 0.70564961 0.7322661  0.73449233\n",
      "  0.74632624 0.74699276 0.74882005 0.7517394 ]]\n",
      "[[ 20   8   2   1  16  53 186  13   5  76]]\n"
     ]
    }
   ],
   "source": [
    "dists, indices = neighbors.kneighbors([m[user_id]], n_neighbors=10)\n",
    "print(dists)\n",
    "print(indices)"
   ]
  },
  {
   "cell_type": "markdown",
   "metadata": {},
   "source": [
    "get union of business that rated by the top 10 nearest users"
   ]
  },
  {
   "cell_type": "code",
   "execution_count": 33,
   "metadata": {},
   "outputs": [],
   "source": [
    "businesses = set()\n",
    "count = 0\n",
    "for i in indices[0]:\n",
    "    for j in range(len(m[i])):\n",
    "        if m[i][j] > 0:\n",
    "            count += 1\n",
    "            businesses.add(j)"
   ]
  },
  {
   "cell_type": "code",
   "execution_count": 34,
   "metadata": {},
   "outputs": [],
   "source": [
    "def calScore(ratings, dists):\n",
    "    return sum(ratings * dists) / sum (dists)"
   ]
  },
  {
   "cell_type": "code",
   "execution_count": 35,
   "metadata": {},
   "outputs": [],
   "source": [
    "import heapq \n",
    "scores = []\n",
    "for i in businesses:\n",
    "    temp_r = []\n",
    "    for j in indices[0]:\n",
    "        temp_r.append(m[j][i])\n",
    "    score = calScore(temp_r, dists[0])\n",
    "    if len(scores) > 10:\n",
    "        top = heapq.heappop(scores)\n",
    "        if score > top[1]:\n",
    "            heapq.heappush(scores, (i, score))\n",
    "        else:\n",
    "            heapq.heappush(scores, top)\n",
    "    else:\n",
    "        scores.append((i, score))"
   ]
  },
  {
   "cell_type": "code",
   "execution_count": 36,
   "metadata": {},
   "outputs": [
    {
     "data": {
      "text/plain": [
       "[(343, 3.614741236070406),\n",
       " (352, 2.9552049739896393),\n",
       " (439, 2.236068839369739),\n",
       " (394, 2.254264612592436),\n",
       " (353, 2.865518947342474),\n",
       " (759, 2.0882389191966366),\n",
       " (444, 0.9820101304985496),\n",
       " (670, 3.2850694901361046),\n",
       " (545, 1.8470116707977118),\n",
       " (734, 2.743467480950285),\n",
       " (528, 2.510875847015843)]"
      ]
     },
     "execution_count": 36,
     "metadata": {},
     "output_type": "execute_result"
    }
   ],
   "source": [
    "scores"
   ]
  },
  {
   "cell_type": "code",
   "execution_count": 37,
   "metadata": {},
   "outputs": [],
   "source": [
    "result = []\n",
    "for i in range(10):\n",
    "    index = heapq.heappop(scores)[0]\n",
    "    result.insert(0, business.loc[index, 'name'])"
   ]
  },
  {
   "cell_type": "code",
   "execution_count": 39,
   "metadata": {},
   "outputs": [
    {
     "data": {
      "text/plain": [
       "['Proper Brick Oven & Tap Room',\n",
       " 'Square Cafe',\n",
       " 'Hofbrauhaus Pittsburgh',\n",
       " 'Conflict Kitchen',\n",
       " 'Mike Feinberg',\n",
       " 'NOLA',\n",
       " \"Bier's Pub\",\n",
       " 'Everyday Noodles',\n",
       " 'Kaya',\n",
       " 'Eleven']"
      ]
     },
     "execution_count": 39,
     "metadata": {},
     "output_type": "execute_result"
    }
   ],
   "source": [
    "result"
   ]
  },
  {
   "cell_type": "markdown",
   "metadata": {},
   "source": [
    "### Results from item-based filtering:\n",
    "\"Trader Joe's\",\n",
    " 'Pleasure Bar and Restaurant',\n",
    " 'Carnegie Library of Pittsburgh, Main Library',\n",
    " 'Schenley Plaza',\n",
    " 'Senator John Heinz History Center',\n",
    " 'Phipps Conservatory and Botanical Gardens',\n",
    " 'McCauley Celin Eyecare Associates',\n",
    " 'Fuel & Fuddle',\n",
    " 'Ross Park Mall',\n",
    " \"Prantl's Bakery\"\n",
    "\n",
    "### Results from user-based filtering:\n",
    "'Proper Brick Oven & Tap Room',\n",
    "'Square Cafe',\n",
    "'Hofbrauhaus Pittsburgh',\n",
    "'Conflict Kitchen',\n",
    "'Mike Feinberg',\n",
    "'NOLA',\n",
    "\"Bier's Pub\",\n",
    "'Everyday Noodles',\n",
    "'Kaya',\n",
    "'Eleven'"
   ]
  },
  {
   "cell_type": "code",
   "execution_count": null,
   "metadata": {},
   "outputs": [],
   "source": []
  }
 ],
 "metadata": {
  "kernelspec": {
   "display_name": "Python 3",
   "language": "python",
   "name": "python3"
  },
  "language_info": {
   "codemirror_mode": {
    "name": "ipython",
    "version": 3
   },
   "file_extension": ".py",
   "mimetype": "text/x-python",
   "name": "python",
   "nbconvert_exporter": "python",
   "pygments_lexer": "ipython3",
   "version": "3.7.0"
  }
 },
 "nbformat": 4,
 "nbformat_minor": 2
}
